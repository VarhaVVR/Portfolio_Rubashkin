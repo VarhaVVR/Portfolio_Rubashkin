{
 "cells": [
  {
   "cell_type": "code",
   "execution_count": 228,
   "metadata": {},
   "outputs": [],
   "source": [
    "import psycopg2\n",
    "import pandas as pd\n",
    "import seaborn as sns\n",
    "import matplotlib.pyplot as plt\n",
    "conn = psycopg2.connect(dbname='hr-analytics', user='analytics', \n",
    "                        password='HRanalytics', host='rc1c-fhrb9f1e0l9g611h.mdb.yandexcloud.net',\n",
    "                        sslmode = 'require', port = 6432)\n",
    "df_orders = pd.read_sql(\"select * from orders\",conn)\n",
    "df_delivery_windows = pd.read_sql(\"select * from delivery_windows\",conn)\n",
    "df_stores = pd.read_sql(\"select * from stores\",conn)\n",
    "df_addresses = pd.read_sql(\"select * from addresses\",conn)\n",
    "df_replacements = pd.read_sql(\"select * from replacements\",conn)\n",
    "df_cancellations = pd.read_sql(\"select * from cancellations\",conn)"
   ]
  },
  {
   "cell_type": "code",
   "execution_count": 2,
   "metadata": {},
   "outputs": [
    {
     "name": "stdout",
     "output_type": "stream",
     "text": [
      "id                    0\n",
      "user_id               0\n",
      "total_cost            0\n",
      "cost                  0\n",
      "item_total            0\n",
      "promo_total           0\n",
      "total_weight          0\n",
      "total_quantity        0\n",
      "state                 0\n",
      "shipped_at            0\n",
      "created_at            0\n",
      "ship_address_id       0\n",
      "store_id              0\n",
      "delivery_window_id    1\n",
      "dtype: int64\n",
      "store_id     0\n",
      "id           0\n",
      "starts_at    0\n",
      "ends_at      0\n",
      "time_zone    0\n",
      "dtype: int64\n",
      "id             0\n",
      "city           0\n",
      "retailer_id    0\n",
      "dtype: int64\n",
      "lat              0\n",
      "lon              0\n",
      "id               0\n",
      "elevator    625065\n",
      "floor            0\n",
      "dtype: int64\n",
      "order_id    0\n",
      "item_id     0\n",
      "state       0\n",
      "dtype: int64\n",
      "order_id    0\n",
      "item_id     0\n",
      "state       0\n",
      "dtype: int64\n"
     ]
    }
   ],
   "source": [
    "df_list=[df_orders,df_delivery_windows,df_stores,df_addresses,df_replacements,df_cancellations]\n",
    "\n",
    "for item in df_list:\n",
    "    print(item.isnull().sum())\n"
   ]
  },
  {
   "cell_type": "code",
   "execution_count": 3,
   "metadata": {},
   "outputs": [
    {
     "name": "stdout",
     "output_type": "stream",
     "text": [
      "Index(['id', 'user_id', 'total_cost', 'cost', 'item_total', 'promo_total',\n",
      "       'total_weight', 'total_quantity', 'state', 'shipped_at', 'created_at',\n",
      "       'ship_address_id', 'store_id', 'delivery_window_id'],\n",
      "      dtype='object')\n"
     ]
    },
    {
     "data": {
      "text/html": [
       "<div>\n",
       "<style scoped>\n",
       "    .dataframe tbody tr th:only-of-type {\n",
       "        vertical-align: middle;\n",
       "    }\n",
       "\n",
       "    .dataframe tbody tr th {\n",
       "        vertical-align: top;\n",
       "    }\n",
       "\n",
       "    .dataframe thead th {\n",
       "        text-align: right;\n",
       "    }\n",
       "</style>\n",
       "<table border=\"1\" class=\"dataframe\">\n",
       "  <thead>\n",
       "    <tr style=\"text-align: right;\">\n",
       "      <th></th>\n",
       "      <th>id</th>\n",
       "      <th>user_id</th>\n",
       "      <th>total_cost</th>\n",
       "      <th>cost</th>\n",
       "      <th>item_total</th>\n",
       "      <th>promo_total</th>\n",
       "      <th>total_weight</th>\n",
       "      <th>total_quantity</th>\n",
       "      <th>state</th>\n",
       "      <th>shipped_at</th>\n",
       "      <th>created_at</th>\n",
       "      <th>ship_address_id</th>\n",
       "      <th>store_id</th>\n",
       "      <th>delivery_window_id</th>\n",
       "    </tr>\n",
       "  </thead>\n",
       "  <tbody>\n",
       "    <tr>\n",
       "      <th>61053</th>\n",
       "      <td>3550660</td>\n",
       "      <td>17157</td>\n",
       "      <td>-298.0</td>\n",
       "      <td>398.0</td>\n",
       "      <td>4457</td>\n",
       "      <td>0.0</td>\n",
       "      <td>99600</td>\n",
       "      <td>55</td>\n",
       "      <td>shipped</td>\n",
       "      <td>2018-07-08 14:09:07</td>\n",
       "      <td>2018-06-30 12:59:43</td>\n",
       "      <td>147074</td>\n",
       "      <td>68</td>\n",
       "      <td>188544.0</td>\n",
       "    </tr>\n",
       "    <tr>\n",
       "      <th>93693</th>\n",
       "      <td>3727453</td>\n",
       "      <td>4585</td>\n",
       "      <td>-99.0</td>\n",
       "      <td>497.0</td>\n",
       "      <td>3478</td>\n",
       "      <td>0.0</td>\n",
       "      <td>17877</td>\n",
       "      <td>64</td>\n",
       "      <td>shipped</td>\n",
       "      <td>2018-10-10 17:31:12</td>\n",
       "      <td>2018-09-15 12:18:13</td>\n",
       "      <td>940822</td>\n",
       "      <td>21</td>\n",
       "      <td>264264.0</td>\n",
       "    </tr>\n",
       "    <tr>\n",
       "      <th>95739</th>\n",
       "      <td>3641402</td>\n",
       "      <td>19214</td>\n",
       "      <td>-99.0</td>\n",
       "      <td>299.0</td>\n",
       "      <td>1755</td>\n",
       "      <td>0.0</td>\n",
       "      <td>35228</td>\n",
       "      <td>31</td>\n",
       "      <td>shipped</td>\n",
       "      <td>2018-09-20 12:11:22</td>\n",
       "      <td>2018-09-18 22:45:05</td>\n",
       "      <td>858935</td>\n",
       "      <td>21</td>\n",
       "      <td>247582.0</td>\n",
       "    </tr>\n",
       "    <tr>\n",
       "      <th>95764</th>\n",
       "      <td>3449644</td>\n",
       "      <td>60247</td>\n",
       "      <td>-148.0</td>\n",
       "      <td>299.0</td>\n",
       "      <td>3574</td>\n",
       "      <td>0.0</td>\n",
       "      <td>35357</td>\n",
       "      <td>43</td>\n",
       "      <td>shipped</td>\n",
       "      <td>2018-09-20 14:36:11</td>\n",
       "      <td>2018-09-19 04:12:17</td>\n",
       "      <td>274349</td>\n",
       "      <td>11</td>\n",
       "      <td>247485.0</td>\n",
       "    </tr>\n",
       "  </tbody>\n",
       "</table>\n",
       "</div>"
      ],
      "text/plain": [
       "            id  user_id  total_cost   cost  item_total  promo_total  \\\n",
       "61053  3550660    17157      -298.0  398.0        4457          0.0   \n",
       "93693  3727453     4585       -99.0  497.0        3478          0.0   \n",
       "95739  3641402    19214       -99.0  299.0        1755          0.0   \n",
       "95764  3449644    60247      -148.0  299.0        3574          0.0   \n",
       "\n",
       "       total_weight  total_quantity    state          shipped_at  \\\n",
       "61053         99600              55  shipped 2018-07-08 14:09:07   \n",
       "93693         17877              64  shipped 2018-10-10 17:31:12   \n",
       "95739         35228              31  shipped 2018-09-20 12:11:22   \n",
       "95764         35357              43  shipped 2018-09-20 14:36:11   \n",
       "\n",
       "               created_at  ship_address_id  store_id  delivery_window_id  \n",
       "61053 2018-06-30 12:59:43           147074        68            188544.0  \n",
       "93693 2018-09-15 12:18:13           940822        21            264264.0  \n",
       "95739 2018-09-18 22:45:05           858935        21            247582.0  \n",
       "95764 2018-09-19 04:12:17           274349        11            247485.0  "
      ]
     },
     "execution_count": 3,
     "metadata": {},
     "output_type": "execute_result"
    }
   ],
   "source": [
    "print(df_orders.columns)\n",
    "ans = df_orders.drop(['id', 'user_id', 'state','shipped_at', 'created_at','ship_address_id', 'store_id', 'delivery_window_id'],axis = 1)\n",
    "ans.describe()\n",
    "df_orders[df_orders['total_cost']<0]"
   ]
  },
  {
   "cell_type": "code",
   "execution_count": null,
   "metadata": {},
   "outputs": [],
   "source": []
  },
  {
   "cell_type": "code",
   "execution_count": 4,
   "metadata": {},
   "outputs": [
    {
     "data": {
      "text/html": [
       "<div>\n",
       "<style scoped>\n",
       "    .dataframe tbody tr th:only-of-type {\n",
       "        vertical-align: middle;\n",
       "    }\n",
       "\n",
       "    .dataframe tbody tr th {\n",
       "        vertical-align: top;\n",
       "    }\n",
       "\n",
       "    .dataframe thead th {\n",
       "        text-align: right;\n",
       "    }\n",
       "</style>\n",
       "<table border=\"1\" class=\"dataframe\">\n",
       "  <thead>\n",
       "    <tr style=\"text-align: right;\">\n",
       "      <th></th>\n",
       "      <th>id</th>\n",
       "      <th>user_id</th>\n",
       "      <th>total_cost</th>\n",
       "      <th>cost</th>\n",
       "      <th>item_total</th>\n",
       "      <th>promo_total</th>\n",
       "      <th>total_weight</th>\n",
       "      <th>total_quantity</th>\n",
       "      <th>state</th>\n",
       "      <th>shipped_at</th>\n",
       "      <th>created_at</th>\n",
       "      <th>ship_address_id</th>\n",
       "      <th>store_id</th>\n",
       "      <th>delivery_window_id</th>\n",
       "    </tr>\n",
       "  </thead>\n",
       "  <tbody>\n",
       "    <tr>\n",
       "      <th>62943</th>\n",
       "      <td>3559805</td>\n",
       "      <td>90379</td>\n",
       "      <td>9500.0</td>\n",
       "      <td>9500.0</td>\n",
       "      <td>23336</td>\n",
       "      <td>0.0</td>\n",
       "      <td>150000</td>\n",
       "      <td>476</td>\n",
       "      <td>shipped</td>\n",
       "      <td>2018-07-06 10:55:55</td>\n",
       "      <td>2018-07-06 06:02:52</td>\n",
       "      <td>777834</td>\n",
       "      <td>21</td>\n",
       "      <td>186764.0</td>\n",
       "    </tr>\n",
       "  </tbody>\n",
       "</table>\n",
       "</div>"
      ],
      "text/plain": [
       "            id  user_id  total_cost    cost  item_total  promo_total  \\\n",
       "62943  3559805    90379      9500.0  9500.0       23336          0.0   \n",
       "\n",
       "       total_weight  total_quantity    state          shipped_at  \\\n",
       "62943        150000             476  shipped 2018-07-06 10:55:55   \n",
       "\n",
       "               created_at  ship_address_id  store_id  delivery_window_id  \n",
       "62943 2018-07-06 06:02:52           777834        21            186764.0  "
      ]
     },
     "execution_count": 4,
     "metadata": {},
     "output_type": "execute_result"
    }
   ],
   "source": [
    "df_orders[df_orders['cost']==df_orders['cost'].max()]"
   ]
  },
  {
   "cell_type": "code",
   "execution_count": 5,
   "metadata": {},
   "outputs": [
    {
     "data": {
      "text/html": [
       "<div>\n",
       "<style scoped>\n",
       "    .dataframe tbody tr th:only-of-type {\n",
       "        vertical-align: middle;\n",
       "    }\n",
       "\n",
       "    .dataframe tbody tr th {\n",
       "        vertical-align: top;\n",
       "    }\n",
       "\n",
       "    .dataframe thead th {\n",
       "        text-align: right;\n",
       "    }\n",
       "</style>\n",
       "<table border=\"1\" class=\"dataframe\">\n",
       "  <thead>\n",
       "    <tr style=\"text-align: right;\">\n",
       "      <th></th>\n",
       "      <th>id</th>\n",
       "      <th>user_id</th>\n",
       "      <th>total_cost</th>\n",
       "      <th>cost</th>\n",
       "      <th>item_total</th>\n",
       "      <th>promo_total</th>\n",
       "      <th>total_weight</th>\n",
       "      <th>total_quantity</th>\n",
       "      <th>state</th>\n",
       "      <th>shipped_at</th>\n",
       "      <th>created_at</th>\n",
       "      <th>ship_address_id</th>\n",
       "      <th>store_id</th>\n",
       "      <th>delivery_window_id</th>\n",
       "    </tr>\n",
       "  </thead>\n",
       "  <tbody>\n",
       "    <tr>\n",
       "      <th>135262</th>\n",
       "      <td>3898842</td>\n",
       "      <td>154981</td>\n",
       "      <td>830.0</td>\n",
       "      <td>830.0</td>\n",
       "      <td>97720</td>\n",
       "      <td>0.0</td>\n",
       "      <td>3864000</td>\n",
       "      <td>7728</td>\n",
       "      <td>shipped</td>\n",
       "      <td>2018-11-22 12:32:00</td>\n",
       "      <td>2018-11-21 12:59:40</td>\n",
       "      <td>1104272</td>\n",
       "      <td>21</td>\n",
       "      <td>309330.0</td>\n",
       "    </tr>\n",
       "  </tbody>\n",
       "</table>\n",
       "</div>"
      ],
      "text/plain": [
       "             id  user_id  total_cost   cost  item_total  promo_total  \\\n",
       "135262  3898842   154981       830.0  830.0       97720          0.0   \n",
       "\n",
       "        total_weight  total_quantity    state          shipped_at  \\\n",
       "135262       3864000            7728  shipped 2018-11-22 12:32:00   \n",
       "\n",
       "                created_at  ship_address_id  store_id  delivery_window_id  \n",
       "135262 2018-11-21 12:59:40          1104272        21            309330.0  "
      ]
     },
     "execution_count": 5,
     "metadata": {},
     "output_type": "execute_result"
    }
   ],
   "source": [
    "df_orders[df_orders['total_weight']==df_orders['total_weight'].max()]"
   ]
  },
  {
   "cell_type": "code",
   "execution_count": 6,
   "metadata": {},
   "outputs": [
    {
     "name": "stdout",
     "output_type": "stream",
     "text": [
      "<class 'pandas.core.frame.DataFrame'>\n",
      "RangeIndex: 334245 entries, 0 to 334244\n",
      "Data columns (total 14 columns):\n",
      " #   Column              Non-Null Count   Dtype         \n",
      "---  ------              --------------   -----         \n",
      " 0   id                  334245 non-null  int64         \n",
      " 1   user_id             334245 non-null  int64         \n",
      " 2   total_cost          334245 non-null  float64       \n",
      " 3   cost                334245 non-null  float64       \n",
      " 4   item_total          334245 non-null  int64         \n",
      " 5   promo_total         334245 non-null  float64       \n",
      " 6   total_weight        334245 non-null  int64         \n",
      " 7   total_quantity      334245 non-null  int64         \n",
      " 8   state               334245 non-null  object        \n",
      " 9   shipped_at          334245 non-null  datetime64[ns]\n",
      " 10  created_at          334245 non-null  datetime64[ns]\n",
      " 11  ship_address_id     334245 non-null  int64         \n",
      " 12  store_id            334245 non-null  int64         \n",
      " 13  delivery_window_id  334244 non-null  float64       \n",
      "dtypes: datetime64[ns](2), float64(4), int64(7), object(1)\n",
      "memory usage: 35.7+ MB\n"
     ]
    }
   ],
   "source": [
    "df_orders.info()\n",
    "del(ans)\n",
    "ans = pd.DataFrame(df_orders[(df_orders['created_at'].dt.strftime('%Y')==\"2018\")]['created_at'].dt.strftime('%m')).astype('int')"
   ]
  },
  {
   "cell_type": "code",
   "execution_count": 7,
   "metadata": {},
   "outputs": [],
   "source": [
    "ans['item_total'] = df_orders[df_orders['created_at'].dt.strftime('%Y')==\"2018\"]['item_total']"
   ]
  },
  {
   "cell_type": "code",
   "execution_count": 8,
   "metadata": {},
   "outputs": [
    {
     "data": {
      "text/html": [
       "<div>\n",
       "<style scoped>\n",
       "    .dataframe tbody tr th:only-of-type {\n",
       "        vertical-align: middle;\n",
       "    }\n",
       "\n",
       "    .dataframe tbody tr th {\n",
       "        vertical-align: top;\n",
       "    }\n",
       "\n",
       "    .dataframe thead th {\n",
       "        text-align: right;\n",
       "    }\n",
       "</style>\n",
       "<table border=\"1\" class=\"dataframe\">\n",
       "  <thead>\n",
       "    <tr style=\"text-align: right;\">\n",
       "      <th></th>\n",
       "      <th>created_at</th>\n",
       "      <th>item_total</th>\n",
       "    </tr>\n",
       "  </thead>\n",
       "  <tbody>\n",
       "    <tr>\n",
       "      <th>0</th>\n",
       "      <td>1</td>\n",
       "      <td>2543</td>\n",
       "    </tr>\n",
       "    <tr>\n",
       "      <th>1</th>\n",
       "      <td>1</td>\n",
       "      <td>6076</td>\n",
       "    </tr>\n",
       "    <tr>\n",
       "      <th>2</th>\n",
       "      <td>1</td>\n",
       "      <td>2617</td>\n",
       "    </tr>\n",
       "    <tr>\n",
       "      <th>3</th>\n",
       "      <td>1</td>\n",
       "      <td>3422</td>\n",
       "    </tr>\n",
       "    <tr>\n",
       "      <th>4</th>\n",
       "      <td>1</td>\n",
       "      <td>3666</td>\n",
       "    </tr>\n",
       "    <tr>\n",
       "      <th>...</th>\n",
       "      <td>...</td>\n",
       "      <td>...</td>\n",
       "    </tr>\n",
       "    <tr>\n",
       "      <th>158216</th>\n",
       "      <td>12</td>\n",
       "      <td>4848</td>\n",
       "    </tr>\n",
       "    <tr>\n",
       "      <th>158217</th>\n",
       "      <td>12</td>\n",
       "      <td>4351</td>\n",
       "    </tr>\n",
       "    <tr>\n",
       "      <th>158218</th>\n",
       "      <td>12</td>\n",
       "      <td>3790</td>\n",
       "    </tr>\n",
       "    <tr>\n",
       "      <th>158219</th>\n",
       "      <td>12</td>\n",
       "      <td>6858</td>\n",
       "    </tr>\n",
       "    <tr>\n",
       "      <th>158220</th>\n",
       "      <td>12</td>\n",
       "      <td>2354</td>\n",
       "    </tr>\n",
       "  </tbody>\n",
       "</table>\n",
       "<p>158221 rows × 2 columns</p>\n",
       "</div>"
      ],
      "text/plain": [
       "        created_at  item_total\n",
       "0                1        2543\n",
       "1                1        6076\n",
       "2                1        2617\n",
       "3                1        3422\n",
       "4                1        3666\n",
       "...            ...         ...\n",
       "158216          12        4848\n",
       "158217          12        4351\n",
       "158218          12        3790\n",
       "158219          12        6858\n",
       "158220          12        2354\n",
       "\n",
       "[158221 rows x 2 columns]"
      ]
     },
     "execution_count": 8,
     "metadata": {},
     "output_type": "execute_result"
    }
   ],
   "source": [
    "ans"
   ]
  },
  {
   "cell_type": "code",
   "execution_count": 9,
   "metadata": {},
   "outputs": [
    {
     "data": {
      "text/plain": [
       "<matplotlib.axes._subplots.AxesSubplot at 0x1097fcb3a30>"
      ]
     },
     "execution_count": 9,
     "metadata": {},
     "output_type": "execute_result"
    },
    {
     "data": {
      "image/png": "[encoded data removed]",
      "text/plain": [
       "<Figure size 432x288 with 1 Axes>"
      ]
     },
     "metadata": {
      "needs_background": "light"
     },
     "output_type": "display_data"
    }
   ],
   "source": [
    "sns.barplot(ans.groupby('created_at')['item_total'].sum().keys(),ans.groupby('created_at')['item_total'].sum())"
   ]
  },
  {
   "cell_type": "code",
   "execution_count": 10,
   "metadata": {},
   "outputs": [
    {
     "data": {
      "text/plain": [
       "<matplotlib.axes._subplots.AxesSubplot at 0x109770f2d30>"
      ]
     },
     "execution_count": 10,
     "metadata": {},
     "output_type": "execute_result"
    },
    {
     "data": {
      "image/png": "[encoded data removed]",
      "text/plain": [
       "<Figure size 432x288 with 1 Axes>"
      ]
     },
     "metadata": {
      "needs_background": "light"
     },
     "output_type": "display_data"
    }
   ],
   "source": [
    "ans.groupby('created_at')['item_total'].count().keys()\n",
    "sns.barplot(ans.groupby('created_at')['item_total'].count().keys(),ans.groupby('created_at')['item_total'].count())"
   ]
  },
  {
   "cell_type": "code",
   "execution_count": 11,
   "metadata": {},
   "outputs": [],
   "source": [
    "ans['day'] = df_orders[(df_orders['created_at'].dt.strftime('%Y')==\"2018\")]['created_at'].dt.strftime('%w').astype('int')"
   ]
  },
  {
   "cell_type": "code",
   "execution_count": 12,
   "metadata": {},
   "outputs": [
    {
     "data": {
      "text/plain": [
       "<matplotlib.axes._subplots.AxesSubplot at 0x109748a2280>"
      ]
     },
     "execution_count": 12,
     "metadata": {},
     "output_type": "execute_result"
    },
    {
     "data": {
      "image/png": "[encoded data removed]",
      "text/plain": [
       "<Figure size 432x288 with 1 Axes>"
      ]
     },
     "metadata": {
      "needs_background": "light"
     },
     "output_type": "display_data"
    }
   ],
   "source": [
    "sns.barplot(ans.groupby('day')['item_total'].sum().keys(),ans.groupby('day')['item_total'].sum())"
   ]
  },
  {
   "cell_type": "code",
   "execution_count": 13,
   "metadata": {},
   "outputs": [],
   "source": [
    "ans['hour'] = df_orders[(df_orders['created_at'].dt.strftime('%Y')==\"2018\")]['created_at'].dt.strftime('%H').astype('int')"
   ]
  },
  {
   "cell_type": "code",
   "execution_count": 14,
   "metadata": {},
   "outputs": [
    {
     "data": {
      "text/plain": [
       "<matplotlib.axes._subplots.AxesSubplot at 0x1097510a100>"
      ]
     },
     "execution_count": 14,
     "metadata": {},
     "output_type": "execute_result"
    },
    {
     "data": {
      "image/png": "[encoded data removed]",
      "text/plain": [
       "<Figure size 432x288 with 1 Axes>"
      ]
     },
     "metadata": {
      "needs_background": "light"
     },
     "output_type": "display_data"
    }
   ],
   "source": [
    "sns.barplot(ans.groupby('hour')['item_total'].sum().keys(),ans.groupby('hour')['item_total'].sum())"
   ]
  },
  {
   "cell_type": "code",
   "execution_count": 15,
   "metadata": {},
   "outputs": [],
   "source": [
    "ans['total_cost'] = df_orders[df_orders['created_at'].dt.strftime('%Y')==\"2018\"]['total_cost']"
   ]
  },
  {
   "cell_type": "code",
   "execution_count": 16,
   "metadata": {},
   "outputs": [
    {
     "data": {
      "text/plain": [
       "<matplotlib.axes._subplots.AxesSubplot at 0x10976468b80>"
      ]
     },
     "execution_count": 16,
     "metadata": {},
     "output_type": "execute_result"
    },
    {
     "data": {
      "image/png": "[encoded data removed]",
      "text/plain": [
       "<Figure size 432x288 with 1 Axes>"
      ]
     },
     "metadata": {
      "needs_background": "light"
     },
     "output_type": "display_data"
    }
   ],
   "source": [
    "sns.barplot(ans.groupby('hour')['total_cost'].count().keys(),ans.groupby('hour')['total_cost'].count())"
   ]
  },
  {
   "cell_type": "code",
   "execution_count": 17,
   "metadata": {},
   "outputs": [],
   "source": [
    "ans['promo_total'] = df_orders[df_orders['created_at'].dt.strftime('%Y')==\"2018\"]['promo_total']"
   ]
  },
  {
   "cell_type": "code",
   "execution_count": 18,
   "metadata": {},
   "outputs": [
    {
     "data": {
      "text/plain": [
       "<matplotlib.axes._subplots.AxesSubplot at 0x10976c6d940>"
      ]
     },
     "execution_count": 18,
     "metadata": {},
     "output_type": "execute_result"
    },
    {
     "data": {
      "image/png": "[encoded data removed]",
      "text/plain": [
       "<Figure size 432x288 with 1 Axes>"
      ]
     },
     "metadata": {
      "needs_background": "light"
     },
     "output_type": "display_data"
    }
   ],
   "source": [
    "sns.barplot(ans.groupby('hour')['promo_total'].sum().keys(),(-1)*ans.groupby('hour')['promo_total'].sum())"
   ]
  },
  {
   "cell_type": "code",
   "execution_count": 19,
   "metadata": {},
   "outputs": [
    {
     "data": {
      "text/plain": [
       "<matplotlib.axes._subplots.AxesSubplot at 0x1097dc38b80>"
      ]
     },
     "execution_count": 19,
     "metadata": {},
     "output_type": "execute_result"
    },
    {
     "data": {
      "image/png": "[encoded data removed]",
      "text/plain": [
       "<Figure size 432x288 with 1 Axes>"
      ]
     },
     "metadata": {
      "needs_background": "light"
     },
     "output_type": "display_data"
    }
   ],
   "source": [
    "sns.barplot(ans.groupby('hour')['promo_total'].count().keys(),ans.groupby('hour')['promo_total'].count())"
   ]
  },
  {
   "cell_type": "code",
   "execution_count": 20,
   "metadata": {},
   "outputs": [],
   "source": [
    "ans['packing_time'] = df_orders[df_orders['created_at'].dt.strftime('%Y')==\"2018\"]['shipped_at'] - df_orders[df_orders['created_at'].dt.strftime('%Y')==\"2018\"]['created_at']"
   ]
  },
  {
   "cell_type": "code",
   "execution_count": 21,
   "metadata": {},
   "outputs": [
    {
     "data": {
      "text/plain": [
       "642.9333333333333"
      ]
     },
     "execution_count": 21,
     "metadata": {},
     "output_type": "execute_result"
    }
   ],
   "source": [
    "ans['packing_time'][0].total_seconds()/60"
   ]
  },
  {
   "cell_type": "code",
   "execution_count": 22,
   "metadata": {},
   "outputs": [],
   "source": [
    "ans['packing_time'] = ans['packing_time'].apply(lambda x: x.total_seconds()/3600)"
   ]
  },
  {
   "cell_type": "code",
   "execution_count": 102,
   "metadata": {
    "scrolled": true
   },
   "outputs": [
    {
     "data": {
      "text/plain": [
       "<matplotlib.axes._subplots.AxesSubplot at 0x109795673d0>"
      ]
     },
     "execution_count": 102,
     "metadata": {},
     "output_type": "execute_result"
    },
    {
     "data": {
      "image/png": "[encoded data removed]",
      "text/plain": [
       "<Figure size 432x288 with 1 Axes>"
      ]
     },
     "metadata": {
      "needs_background": "light"
     },
     "output_type": "display_data"
    }
   ],
   "source": [
    "sns.barplot(ans.groupby('created_at')['packing_time'].mean().keys(),ans.groupby('created_at')['packing_time'].mean())"
   ]
  },
  {
   "cell_type": "code",
   "execution_count": 24,
   "metadata": {},
   "outputs": [
    {
     "data": {
      "text/plain": [
       "count    158221.000000\n",
       "mean        120.914612\n",
       "std         513.739933\n",
       "min         -71.959722\n",
       "25%           9.860000\n",
       "50%          21.452222\n",
       "75%          45.693611\n",
       "max       12361.520000\n",
       "Name: packing_time, dtype: float64"
      ]
     },
     "execution_count": 24,
     "metadata": {},
     "output_type": "execute_result"
    }
   ],
   "source": [
    "ans['packing_time'].describe()"
   ]
  },
  {
   "cell_type": "code",
   "execution_count": 25,
   "metadata": {},
   "outputs": [
    {
     "data": {
      "text/plain": [
       "<matplotlib.axes._subplots.AxesSubplot at 0x1097b030f40>"
      ]
     },
     "execution_count": 25,
     "metadata": {},
     "output_type": "execute_result"
    },
    {
     "data": {
      "image/png": "[encoded data removed]",
      "text/plain": [
       "<Figure size 432x288 with 1 Axes>"
      ]
     },
     "metadata": {
      "needs_background": "light"
     },
     "output_type": "display_data"
    }
   ],
   "source": [
    "ans.boxplot(column = 'packing_time')"
   ]
  },
  {
   "cell_type": "code",
   "execution_count": 70,
   "metadata": {},
   "outputs": [
    {
     "name": "stdout",
     "output_type": "stream",
     "text": [
      "0         10.715556\n",
      "1         37.486667\n",
      "3         34.668611\n",
      "4         37.476389\n",
      "8          7.722222\n",
      "            ...    \n",
      "158216    44.370000\n",
      "158217    18.892778\n",
      "158218    13.927500\n",
      "158219    22.018889\n",
      "158220    12.150556\n",
      "Name: packing_time, Length: 136228, dtype: float64\n"
     ]
    }
   ],
   "source": [
    "#Найти количество выбросов и удалить, посмотреть, сколько в среднем занимает доставка\n",
    "\n",
    "import matplotlib.pyplot as plt\n",
    "def anomaly_exclude_hist(column):\n",
    "    median = column.median()\n",
    "    IQR = column.quantile(0.75)-column.quantile(0.25)\n",
    "    perc25 = column.quantile(0.25)\n",
    "    perc75 = column.quantile(0.75)\n",
    "    X = column.loc[column.between(perc25 - 1.5*IQR, perc75 + 1.5*IQR)]\n",
    "    print(X)\n",
    "anomaly_exclude_hist(ans['packing_time'])\n"
   ]
  },
  {
   "cell_type": "code",
   "execution_count": 86,
   "metadata": {},
   "outputs": [
    {
     "data": {
      "text/plain": [
       "<matplotlib.axes._subplots.AxesSubplot at 0x1091d9a0b20>"
      ]
     },
     "execution_count": 86,
     "metadata": {},
     "output_type": "execute_result"
    },
    {
     "data": {
      "image/png": "[encoded data removed]",
      "text/plain": [
       "<Figure size 432x288 with 1 Axes>"
      ]
     },
     "metadata": {
      "needs_background": "light"
     },
     "output_type": "display_data"
    }
   ],
   "source": [
    "from scipy import stats\n",
    "ans_clean = ans[((ans.packing_time - ans.packing_time.mean()) / ans.packing_time.std()).abs() < 3]\n",
    "ans_clean.boxplot(column = 'packing_time')\n"
   ]
  },
  {
   "cell_type": "code",
   "execution_count": 87,
   "metadata": {},
   "outputs": [
    {
     "data": {
      "text/plain": [
       "<matplotlib.axes._subplots.AxesSubplot at 0x109798f46d0>"
      ]
     },
     "execution_count": 87,
     "metadata": {},
     "output_type": "execute_result"
    },
    {
     "data": {
      "image/png": "[encoded data removed]",
      "text/plain": [
       "<Figure size 432x288 with 1 Axes>"
      ]
     },
     "metadata": {
      "needs_background": "light"
     },
     "output_type": "display_data"
    }
   ],
   "source": [
    "sns.barplot(ans_clean.groupby('created_at')['packing_time'].mean().keys(),ans_clean.groupby('created_at')['packing_time'].mean())"
   ]
  },
  {
   "cell_type": "code",
   "execution_count": 103,
   "metadata": {},
   "outputs": [
    {
     "data": {
      "text/plain": [
       "<matplotlib.axes._subplots.AxesSubplot at 0x1097a6595b0>"
      ]
     },
     "execution_count": 103,
     "metadata": {},
     "output_type": "execute_result"
    },
    {
     "data": {
      "image/png": "[encoded data removed]",
      "text/plain": [
       "<Figure size 432x288 with 1 Axes>"
      ]
     },
     "metadata": {
      "needs_background": "light"
     },
     "output_type": "display_data"
    }
   ],
   "source": [
    "#Выбросы для анализа времени доставки надо удалить, при анализе без исключения выбросов,\n",
    "#среднее время доставки без учета выбросов составляет 6 суток. Явно дольше, чем заявлено в рекламе.\n",
    "#Найти количество выбросов и удалить, посмотреть, сколько в среднем занимает доставка\n",
    "\n",
    "import matplotlib.pyplot as plt\n",
    "def anomaly_exclude_hist(df):\n",
    "    Q1 = df.quantile(0.25)\n",
    "    Q3 = df.quantile(0.75)\n",
    "    IQR = Q3 - Q1\n",
    "    df_out = df[~((df < (Q1 - 1.5 * IQR)) |(df > (Q3 + 1.5 * IQR))).any(axis=1)]\n",
    "    return df_out\n",
    "ans_clean = anomaly_exclude_hist(ans)\n",
    "#ans_clean.boxplot(column = 'packing_time')\n",
    "sns.barplot(ans_clean.groupby('created_at')['packing_time'].mean().keys(),ans_clean.groupby('created_at')['packing_time'].mean())\n",
    "#Возможно приток новых сотрудников летом увеличил время доставки, к зиме остались только \"опытные\" курьеры.\n",
    "\n",
    "#Или использовать медиану вместо среднего без выбросов, значения не сильно отличаются\n",
    "sns.barplot(ans.groupby('created_at')['packing_time'].median().keys(),ans.groupby('created_at')['packing_time'].median(), color = 'green')"
   ]
  },
  {
   "cell_type": "code",
   "execution_count": 110,
   "metadata": {},
   "outputs": [],
   "source": [
    "df_delivery_windows['delivery_time'] = df_delivery_windows['ends_at'] - df_delivery_windows['starts_at']\n",
    "df_delivery_windows['delivery_time'] = df_delivery_windows['delivery_time'].apply(lambda x: x.total_seconds()/3600)\n"
   ]
  },
  {
   "cell_type": "code",
   "execution_count": 113,
   "metadata": {},
   "outputs": [
    {
     "data": {
      "text/plain": [
       "time_zone\n",
       "Asia/Omsk             2.013453\n",
       "Asia/Yekaterinburg    2.024432\n",
       "Europe/Kaliningrad    2.000000\n",
       "Europe/Moscow         2.109565\n",
       "Europe/Samara         2.047976\n",
       "Name: delivery_time, dtype: float64"
      ]
     },
     "execution_count": 113,
     "metadata": {},
     "output_type": "execute_result"
    }
   ],
   "source": [
    "df_delivery_windows.groupby('time_zone')['delivery_time'].mean()"
   ]
  },
  {
   "cell_type": "code",
   "execution_count": 122,
   "metadata": {},
   "outputs": [
    {
     "data": {
      "text/plain": [
       "5798455    6\n",
       "5981379    5\n",
       "5342624    4\n",
       "5837528    4\n",
       "5615529    4\n",
       "5429699    3\n",
       "5999184    3\n",
       "5610173    3\n",
       "5567781    3\n",
       "5607442    3\n",
       "Name: item_id, dtype: int64"
      ]
     },
     "execution_count": 122,
     "metadata": {},
     "output_type": "execute_result"
    }
   ],
   "source": [
    "#10 самых заменяемых товаров\n",
    "df_replacements.item_id.value_counts()[:10]"
   ]
  },
  {
   "cell_type": "code",
   "execution_count": 124,
   "metadata": {},
   "outputs": [
    {
     "data": {
      "text/plain": [
       "5550755    5\n",
       "5596744    4\n",
       "5686126    3\n",
       "5440820    3\n",
       "5711547    3\n",
       "5661297    3\n",
       "5820707    2\n",
       "5771009    2\n",
       "5651985    2\n",
       "5838679    2\n",
       "Name: item_id, dtype: int64"
      ]
     },
     "execution_count": 124,
     "metadata": {},
     "output_type": "execute_result"
    }
   ],
   "source": [
    "#10 самых отменяемых товаров\n",
    "df_cancellations.item_id.value_counts()[:10]"
   ]
  },
  {
   "cell_type": "code",
   "execution_count": 135,
   "metadata": {},
   "outputs": [
    {
     "data": {
      "text/plain": [
       "63     1\n",
       "152    1\n",
       "150    1\n",
       "21     1\n",
       "84     1\n",
       "18     1\n",
       "14     1\n",
       "138    1\n",
       "12     1\n",
       "11     1\n",
       "10     1\n",
       "9      1\n",
       "8      1\n",
       "120    1\n",
       "70     1\n",
       "68     1\n",
       "3      1\n",
       "2      1\n",
       "1      1\n",
       "151    1\n",
       "89     1\n",
       "62     1\n",
       "90     1\n",
       "163    1\n",
       "57     1\n",
       "85     1\n",
       "118    1\n",
       "113    1\n",
       "112    1\n",
       "108    1\n",
       "105    1\n",
       "162    1\n",
       "100    1\n",
       "99     1\n",
       "98     1\n",
       "95     1\n",
       "131    1\n",
       "93     1\n",
       "92     1\n",
       "91     1\n",
       "128    1\n",
       "Name: id, dtype: int64"
      ]
     },
     "execution_count": 135,
     "metadata": {},
     "output_type": "execute_result"
    }
   ],
   "source": [
    "df_stores.id.value_counts()"
   ]
  },
  {
   "cell_type": "code",
   "execution_count": 143,
   "metadata": {},
   "outputs": [
    {
     "data": {
      "text/plain": [
       "<matplotlib.axes._subplots.AxesSubplot at 0x10979041dc0>"
      ]
     },
     "execution_count": 143,
     "metadata": {},
     "output_type": "execute_result"
    },
    {
     "data": {
      "image/png": "[encoded data removed]",
      "text/plain": [
       "<Figure size 432x288 with 1 Axes>"
      ]
     },
     "metadata": {
      "needs_background": "light"
     },
     "output_type": "display_data"
    }
   ],
   "source": [
    "df_stores.retailer_id.value_counts()\n",
    "sns.barplot(df_stores.retailer_id.value_counts().keys(),df_stores.retailer_id.value_counts())"
   ]
  },
  {
   "cell_type": "code",
   "execution_count": 148,
   "metadata": {},
   "outputs": [
    {
     "data": {
      "text/plain": [
       "14    34741\n",
       "2     34538\n",
       "12    34334\n",
       "21    33379\n",
       "8     28277\n",
       "1     26759\n",
       "10    22914\n",
       "11    21431\n",
       "3     19417\n",
       "9     13387\n",
       "Name: store_id, dtype: int64"
      ]
     },
     "execution_count": 148,
     "metadata": {},
     "output_type": "execute_result"
    }
   ],
   "source": [
    "#10 магазинов с самым большим количеством заказов\n",
    "df_orders.store_id.value_counts()[:10]"
   ]
  },
  {
   "cell_type": "code",
   "execution_count": 176,
   "metadata": {},
   "outputs": [
    {
     "name": "stdout",
     "output_type": "stream",
     "text": [
      "0.5648730721476761\n",
      "0.44319286750736736\n"
     ]
    }
   ],
   "source": [
    "#Доля заказов с отменой\n",
    "print(len(df_cancellations['order_id'].unique())/len(df_orders.id))\n",
    "#Доля заказов с заменой\n",
    "print(len(df_replacements['order_id'].unique())/len(df_orders.id))"
   ]
  },
  {
   "cell_type": "code",
   "execution_count": 231,
   "metadata": {},
   "outputs": [
    {
     "ename": "ValueError",
     "evalue": "columns overlap but no suffix specified: Index(['state'], dtype='object')",
     "output_type": "error",
     "traceback": [
      "\u001b[1;31m---------------------------------------------------------------------------\u001b[0m",
      "\u001b[1;31mValueError\u001b[0m                                Traceback (most recent call last)",
      "\u001b[1;32m<ipython-input-231-f641f93a1c9c>\u001b[0m in \u001b[0;36m<module>\u001b[1;34m\u001b[0m\n\u001b[1;32m----> 1\u001b[1;33m \u001b[0mdf_orders\u001b[0m\u001b[1;33m.\u001b[0m\u001b[0mjoin\u001b[0m\u001b[1;33m(\u001b[0m\u001b[0mdf_cancellations\u001b[0m\u001b[1;33m.\u001b[0m\u001b[0mset_index\u001b[0m\u001b[1;33m(\u001b[0m\u001b[1;34m'order_id'\u001b[0m\u001b[1;33m)\u001b[0m\u001b[1;33m,\u001b[0m \u001b[0mon\u001b[0m \u001b[1;33m=\u001b[0m \u001b[1;34m'id'\u001b[0m\u001b[1;33m)\u001b[0m\u001b[1;33m\u001b[0m\u001b[1;33m\u001b[0m\u001b[0m\n\u001b[0m",
      "\u001b[1;32mE:\\Anaconda3\\lib\\site-packages\\pandas\\core\\frame.py\u001b[0m in \u001b[0;36mjoin\u001b[1;34m(self, other, on, how, lsuffix, rsuffix, sort)\u001b[0m\n\u001b[0;32m   7206\u001b[0m         \u001b[1;36m5\u001b[0m  \u001b[0mK5\u001b[0m  \u001b[0mA5\u001b[0m  \u001b[0mNaN\u001b[0m\u001b[1;33m\u001b[0m\u001b[1;33m\u001b[0m\u001b[0m\n\u001b[0;32m   7207\u001b[0m         \"\"\"\n\u001b[1;32m-> 7208\u001b[1;33m         return self._join_compat(\n\u001b[0m\u001b[0;32m   7209\u001b[0m             \u001b[0mother\u001b[0m\u001b[1;33m,\u001b[0m \u001b[0mon\u001b[0m\u001b[1;33m=\u001b[0m\u001b[0mon\u001b[0m\u001b[1;33m,\u001b[0m \u001b[0mhow\u001b[0m\u001b[1;33m=\u001b[0m\u001b[0mhow\u001b[0m\u001b[1;33m,\u001b[0m \u001b[0mlsuffix\u001b[0m\u001b[1;33m=\u001b[0m\u001b[0mlsuffix\u001b[0m\u001b[1;33m,\u001b[0m \u001b[0mrsuffix\u001b[0m\u001b[1;33m=\u001b[0m\u001b[0mrsuffix\u001b[0m\u001b[1;33m,\u001b[0m \u001b[0msort\u001b[0m\u001b[1;33m=\u001b[0m\u001b[0msort\u001b[0m\u001b[1;33m\u001b[0m\u001b[1;33m\u001b[0m\u001b[0m\n\u001b[0;32m   7210\u001b[0m         )\n",
      "\u001b[1;32mE:\\Anaconda3\\lib\\site-packages\\pandas\\core\\frame.py\u001b[0m in \u001b[0;36m_join_compat\u001b[1;34m(self, other, on, how, lsuffix, rsuffix, sort)\u001b[0m\n\u001b[0;32m   7222\u001b[0m \u001b[1;33m\u001b[0m\u001b[0m\n\u001b[0;32m   7223\u001b[0m         \u001b[1;32mif\u001b[0m \u001b[0misinstance\u001b[0m\u001b[1;33m(\u001b[0m\u001b[0mother\u001b[0m\u001b[1;33m,\u001b[0m \u001b[0mDataFrame\u001b[0m\u001b[1;33m)\u001b[0m\u001b[1;33m:\u001b[0m\u001b[1;33m\u001b[0m\u001b[1;33m\u001b[0m\u001b[0m\n\u001b[1;32m-> 7224\u001b[1;33m             return merge(\n\u001b[0m\u001b[0;32m   7225\u001b[0m                 \u001b[0mself\u001b[0m\u001b[1;33m,\u001b[0m\u001b[1;33m\u001b[0m\u001b[1;33m\u001b[0m\u001b[0m\n\u001b[0;32m   7226\u001b[0m                 \u001b[0mother\u001b[0m\u001b[1;33m,\u001b[0m\u001b[1;33m\u001b[0m\u001b[1;33m\u001b[0m\u001b[0m\n",
      "\u001b[1;32mE:\\Anaconda3\\lib\\site-packages\\pandas\\core\\reshape\\merge.py\u001b[0m in \u001b[0;36mmerge\u001b[1;34m(left, right, how, on, left_on, right_on, left_index, right_index, sort, suffixes, copy, indicator, validate)\u001b[0m\n\u001b[0;32m     86\u001b[0m         \u001b[0mvalidate\u001b[0m\u001b[1;33m=\u001b[0m\u001b[0mvalidate\u001b[0m\u001b[1;33m,\u001b[0m\u001b[1;33m\u001b[0m\u001b[1;33m\u001b[0m\u001b[0m\n\u001b[0;32m     87\u001b[0m     )\n\u001b[1;32m---> 88\u001b[1;33m     \u001b[1;32mreturn\u001b[0m \u001b[0mop\u001b[0m\u001b[1;33m.\u001b[0m\u001b[0mget_result\u001b[0m\u001b[1;33m(\u001b[0m\u001b[1;33m)\u001b[0m\u001b[1;33m\u001b[0m\u001b[1;33m\u001b[0m\u001b[0m\n\u001b[0m\u001b[0;32m     89\u001b[0m \u001b[1;33m\u001b[0m\u001b[0m\n\u001b[0;32m     90\u001b[0m \u001b[1;33m\u001b[0m\u001b[0m\n",
      "\u001b[1;32mE:\\Anaconda3\\lib\\site-packages\\pandas\\core\\reshape\\merge.py\u001b[0m in \u001b[0;36mget_result\u001b[1;34m(self)\u001b[0m\n\u001b[0;32m    646\u001b[0m         \u001b[0mlsuf\u001b[0m\u001b[1;33m,\u001b[0m \u001b[0mrsuf\u001b[0m \u001b[1;33m=\u001b[0m \u001b[0mself\u001b[0m\u001b[1;33m.\u001b[0m\u001b[0msuffixes\u001b[0m\u001b[1;33m\u001b[0m\u001b[1;33m\u001b[0m\u001b[0m\n\u001b[0;32m    647\u001b[0m \u001b[1;33m\u001b[0m\u001b[0m\n\u001b[1;32m--> 648\u001b[1;33m         llabels, rlabels = _items_overlap_with_suffix(\n\u001b[0m\u001b[0;32m    649\u001b[0m             \u001b[0mldata\u001b[0m\u001b[1;33m.\u001b[0m\u001b[0mitems\u001b[0m\u001b[1;33m,\u001b[0m \u001b[0mlsuf\u001b[0m\u001b[1;33m,\u001b[0m \u001b[0mrdata\u001b[0m\u001b[1;33m.\u001b[0m\u001b[0mitems\u001b[0m\u001b[1;33m,\u001b[0m \u001b[0mrsuf\u001b[0m\u001b[1;33m\u001b[0m\u001b[1;33m\u001b[0m\u001b[0m\n\u001b[0;32m    650\u001b[0m         )\n",
      "\u001b[1;32mE:\\Anaconda3\\lib\\site-packages\\pandas\\core\\reshape\\merge.py\u001b[0m in \u001b[0;36m_items_overlap_with_suffix\u001b[1;34m(left, lsuffix, right, rsuffix)\u001b[0m\n\u001b[0;32m   2022\u001b[0m \u001b[1;33m\u001b[0m\u001b[0m\n\u001b[0;32m   2023\u001b[0m     \u001b[1;32mif\u001b[0m \u001b[1;32mnot\u001b[0m \u001b[0mlsuffix\u001b[0m \u001b[1;32mand\u001b[0m \u001b[1;32mnot\u001b[0m \u001b[0mrsuffix\u001b[0m\u001b[1;33m:\u001b[0m\u001b[1;33m\u001b[0m\u001b[1;33m\u001b[0m\u001b[0m\n\u001b[1;32m-> 2024\u001b[1;33m         raise ValueError(\n\u001b[0m\u001b[0;32m   2025\u001b[0m             \u001b[1;34m\"columns overlap but no suffix specified: \"\u001b[0m\u001b[1;33m\u001b[0m\u001b[1;33m\u001b[0m\u001b[0m\n\u001b[0;32m   2026\u001b[0m             \u001b[1;34m\"{rename}\"\u001b[0m\u001b[1;33m.\u001b[0m\u001b[0mformat\u001b[0m\u001b[1;33m(\u001b[0m\u001b[0mrename\u001b[0m\u001b[1;33m=\u001b[0m\u001b[0mto_rename\u001b[0m\u001b[1;33m)\u001b[0m\u001b[1;33m\u001b[0m\u001b[1;33m\u001b[0m\u001b[0m\n",
      "\u001b[1;31mValueError\u001b[0m: columns overlap but no suffix specified: Index(['state'], dtype='object')"
     ]
    }
   ],
   "source": [
    "df_orders.join(df_cancellations.set_index('order_id'), on = 'id')"
   ]
  },
  {
   "cell_type": "code",
   "execution_count": 279,
   "metadata": {},
   "outputs": [],
   "source": [
    "df_canc = df_cancellations\n",
    "df_canc = df_canc.drop(columns = ['state'], axis = 1)\n"
   ]
  },
  {
   "cell_type": "code",
   "execution_count": 234,
   "metadata": {},
   "outputs": [
    {
     "data": {
      "text/html": [
       "<div>\n",
       "<style scoped>\n",
       "    .dataframe tbody tr th:only-of-type {\n",
       "        vertical-align: middle;\n",
       "    }\n",
       "\n",
       "    .dataframe tbody tr th {\n",
       "        vertical-align: top;\n",
       "    }\n",
       "\n",
       "    .dataframe thead th {\n",
       "        text-align: right;\n",
       "    }\n",
       "</style>\n",
       "<table border=\"1\" class=\"dataframe\">\n",
       "  <thead>\n",
       "    <tr style=\"text-align: right;\">\n",
       "      <th></th>\n",
       "      <th>order_id</th>\n",
       "      <th>item_id</th>\n",
       "    </tr>\n",
       "  </thead>\n",
       "  <tbody>\n",
       "    <tr>\n",
       "      <th>0</th>\n",
       "      <td>3182881</td>\n",
       "      <td>5331852</td>\n",
       "    </tr>\n",
       "    <tr>\n",
       "      <th>1</th>\n",
       "      <td>3182881</td>\n",
       "      <td>5351271</td>\n",
       "    </tr>\n",
       "    <tr>\n",
       "      <th>2</th>\n",
       "      <td>3182881</td>\n",
       "      <td>5351087</td>\n",
       "    </tr>\n",
       "    <tr>\n",
       "      <th>3</th>\n",
       "      <td>3182881</td>\n",
       "      <td>5351090</td>\n",
       "    </tr>\n",
       "    <tr>\n",
       "      <th>4</th>\n",
       "      <td>3146329</td>\n",
       "      <td>5356620</td>\n",
       "    </tr>\n",
       "    <tr>\n",
       "      <th>...</th>\n",
       "      <td>...</td>\n",
       "      <td>...</td>\n",
       "    </tr>\n",
       "    <tr>\n",
       "      <th>507203</th>\n",
       "      <td>5271730</td>\n",
       "      <td>28144890</td>\n",
       "    </tr>\n",
       "    <tr>\n",
       "      <th>507204</th>\n",
       "      <td>5271730</td>\n",
       "      <td>28138493</td>\n",
       "    </tr>\n",
       "    <tr>\n",
       "      <th>507205</th>\n",
       "      <td>5512004</td>\n",
       "      <td>28164137</td>\n",
       "    </tr>\n",
       "    <tr>\n",
       "      <th>507206</th>\n",
       "      <td>5512004</td>\n",
       "      <td>28164246</td>\n",
       "    </tr>\n",
       "    <tr>\n",
       "      <th>507207</th>\n",
       "      <td>5316955</td>\n",
       "      <td>28151512</td>\n",
       "    </tr>\n",
       "  </tbody>\n",
       "</table>\n",
       "<p>507208 rows × 2 columns</p>\n",
       "</div>"
      ],
      "text/plain": [
       "        order_id   item_id\n",
       "0        3182881   5331852\n",
       "1        3182881   5351271\n",
       "2        3182881   5351087\n",
       "3        3182881   5351090\n",
       "4        3146329   5356620\n",
       "...          ...       ...\n",
       "507203   5271730  28144890\n",
       "507204   5271730  28138493\n",
       "507205   5512004  28164137\n",
       "507206   5512004  28164246\n",
       "507207   5316955  28151512\n",
       "\n",
       "[507208 rows x 2 columns]"
      ]
     },
     "execution_count": 234,
     "metadata": {},
     "output_type": "execute_result"
    }
   ],
   "source": []
  },
  {
   "cell_type": "code",
   "execution_count": 280,
   "metadata": {},
   "outputs": [],
   "source": [
    "df_orders_canc = df_orders.join(df_canc.set_index('order_id'), on = 'id')"
   ]
  },
  {
   "cell_type": "code",
   "execution_count": 277,
   "metadata": {},
   "outputs": [],
   "source": [
    "#df_orders_canc['item_id'] = df_orders_canc['item_id'].apply(lambda x : int(x) if x==x else 0)"
   ]
  },
  {
   "cell_type": "code",
   "execution_count": 283,
   "metadata": {},
   "outputs": [],
   "source": [
    "df_orders_canc.dropna(inplace = True)"
   ]
  },
  {
   "cell_type": "code",
   "execution_count": 285,
   "metadata": {},
   "outputs": [],
   "source": [
    "df_orders_canc['item_id']=df_orders_canc['item_id'].apply(lambda x : int(x))"
   ]
  },
  {
   "cell_type": "code",
   "execution_count": 297,
   "metadata": {},
   "outputs": [
    {
     "data": {
      "text/plain": [
       "store_id\n",
       "14    55929\n",
       "21    49070\n",
       "2     46349\n",
       "8     45309\n",
       "12    41820\n",
       "1     39569\n",
       "11    38003\n",
       "10    36190\n",
       "3     34882\n",
       "9     21434\n",
       "Name: item_id, dtype: int64"
      ]
     },
     "execution_count": 297,
     "metadata": {},
     "output_type": "execute_result"
    }
   ],
   "source": [
    "#Топ 10 магазинов с самым большим количеством отмен в заказах\n",
    "df_orders_canc.groupby('store_id')['item_id'].count().sort_values(ascending = False)[0:10]"
   ]
  },
  {
   "cell_type": "code",
   "execution_count": 378,
   "metadata": {},
   "outputs": [
    {
     "ename": "AttributeError",
     "evalue": "'Series' object has no attribute 'get_group'",
     "output_type": "error",
     "traceback": [
      "\u001b[1;31m---------------------------------------------------------------------------\u001b[0m",
      "\u001b[1;31mAttributeError\u001b[0m                            Traceback (most recent call last)",
      "\u001b[1;32m<ipython-input-378-c04953fd6cf6>\u001b[0m in \u001b[0;36m<module>\u001b[1;34m\u001b[0m\n\u001b[0;32m      4\u001b[0m \u001b[0mgrouped\u001b[0m\u001b[1;33m.\u001b[0m\u001b[0mget_group\u001b[0m\u001b[1;33m(\u001b[0m\u001b[1;36m113\u001b[0m\u001b[1;33m)\u001b[0m\u001b[1;33m\u001b[0m\u001b[1;33m\u001b[0m\u001b[0m\n\u001b[0;32m      5\u001b[0m \u001b[0mgrouped\u001b[0m \u001b[1;33m=\u001b[0m \u001b[0mdf_orders_canc\u001b[0m\u001b[1;33m.\u001b[0m\u001b[0mgroupby\u001b[0m\u001b[1;33m(\u001b[0m\u001b[1;34m'store_id'\u001b[0m\u001b[1;33m)\u001b[0m\u001b[1;33m[\u001b[0m\u001b[1;34m'item_total'\u001b[0m\u001b[1;33m]\u001b[0m\u001b[1;33m.\u001b[0m\u001b[0munique\u001b[0m\u001b[1;33m(\u001b[0m\u001b[1;33m)\u001b[0m\u001b[1;33m\u001b[0m\u001b[1;33m\u001b[0m\u001b[0m\n\u001b[1;32m----> 6\u001b[1;33m \u001b[0mgrouped\u001b[0m\u001b[1;33m.\u001b[0m\u001b[0mget_group\u001b[0m\u001b[1;33m(\u001b[0m\u001b[1;36m113\u001b[0m\u001b[1;33m)\u001b[0m\u001b[1;33m\u001b[0m\u001b[1;33m\u001b[0m\u001b[0m\n\u001b[0m",
      "\u001b[1;32mE:\\Anaconda3\\lib\\site-packages\\pandas\\core\\generic.py\u001b[0m in \u001b[0;36m__getattr__\u001b[1;34m(self, name)\u001b[0m\n\u001b[0;32m   5272\u001b[0m             \u001b[1;32mif\u001b[0m \u001b[0mself\u001b[0m\u001b[1;33m.\u001b[0m\u001b[0m_info_axis\u001b[0m\u001b[1;33m.\u001b[0m\u001b[0m_can_hold_identifiers_and_holds_name\u001b[0m\u001b[1;33m(\u001b[0m\u001b[0mname\u001b[0m\u001b[1;33m)\u001b[0m\u001b[1;33m:\u001b[0m\u001b[1;33m\u001b[0m\u001b[1;33m\u001b[0m\u001b[0m\n\u001b[0;32m   5273\u001b[0m                 \u001b[1;32mreturn\u001b[0m \u001b[0mself\u001b[0m\u001b[1;33m[\u001b[0m\u001b[0mname\u001b[0m\u001b[1;33m]\u001b[0m\u001b[1;33m\u001b[0m\u001b[1;33m\u001b[0m\u001b[0m\n\u001b[1;32m-> 5274\u001b[1;33m             \u001b[1;32mreturn\u001b[0m \u001b[0mobject\u001b[0m\u001b[1;33m.\u001b[0m\u001b[0m__getattribute__\u001b[0m\u001b[1;33m(\u001b[0m\u001b[0mself\u001b[0m\u001b[1;33m,\u001b[0m \u001b[0mname\u001b[0m\u001b[1;33m)\u001b[0m\u001b[1;33m\u001b[0m\u001b[1;33m\u001b[0m\u001b[0m\n\u001b[0m\u001b[0;32m   5275\u001b[0m \u001b[1;33m\u001b[0m\u001b[0m\n\u001b[0;32m   5276\u001b[0m     \u001b[1;32mdef\u001b[0m \u001b[0m__setattr__\u001b[0m\u001b[1;33m(\u001b[0m\u001b[0mself\u001b[0m\u001b[1;33m,\u001b[0m \u001b[0mname\u001b[0m\u001b[1;33m:\u001b[0m \u001b[0mstr\u001b[0m\u001b[1;33m,\u001b[0m \u001b[0mvalue\u001b[0m\u001b[1;33m)\u001b[0m \u001b[1;33m->\u001b[0m \u001b[1;32mNone\u001b[0m\u001b[1;33m:\u001b[0m\u001b[1;33m\u001b[0m\u001b[1;33m\u001b[0m\u001b[0m\n",
      "\u001b[1;31mAttributeError\u001b[0m: 'Series' object has no attribute 'get_group'"
     ]
    }
   ],
   "source": [
    "df_orders_canc.groupby('store_id')['item_id'].count().sort_values(ascending = False)[0:10]\n",
    "grouped = df_orders_canc.groupby('store_id')\n",
    "\n",
    "grouped.get_group(113)  \n",
    "grouped = df_orders_canc.groupby('store_id')['item_total']\n",
    "grouped.get_group(113)  "
   ]
  },
  {
   "cell_type": "code",
   "execution_count": 388,
   "metadata": {},
   "outputs": [
    {
     "data": {
      "text/plain": [
       "27575"
      ]
     },
     "execution_count": 388,
     "metadata": {},
     "output_type": "execute_result"
    }
   ],
   "source": [
    "df_orders_canc[df_orders_canc['store_id']==113]['item_total'].unique().sum()"
   ]
  },
  {
   "cell_type": "code",
   "execution_count": 469,
   "metadata": {},
   "outputs": [],
   "source": [
    "#df_orders_canc.groupby('store_id')['item_total'].get_group(113).unique().sum()\n",
    "grouped = df_orders_canc.groupby('store_id')['item_total']\n",
    "id_loss = []\n",
    "sum_loss = []\n",
    "for name, group in grouped:\n",
    "    id_loss.append(name)\n",
    "    sum_loss.append(grouped.get_group(name).unique().sum())\n",
    "    \n",
    "canc_loss = pd.DataFrame()\n",
    "canc_loss['id']=id_loss\n",
    "canc_loss['sum_loss']=sum_loss\n"
   ]
  },
  {
   "cell_type": "code",
   "execution_count": 470,
   "metadata": {},
   "outputs": [
    {
     "data": {
      "text/html": [
       "<div>\n",
       "<style scoped>\n",
       "    .dataframe tbody tr th:only-of-type {\n",
       "        vertical-align: middle;\n",
       "    }\n",
       "\n",
       "    .dataframe tbody tr th {\n",
       "        vertical-align: top;\n",
       "    }\n",
       "\n",
       "    .dataframe thead th {\n",
       "        text-align: right;\n",
       "    }\n",
       "</style>\n",
       "<table border=\"1\" class=\"dataframe\">\n",
       "  <thead>\n",
       "    <tr style=\"text-align: right;\">\n",
       "      <th></th>\n",
       "      <th>id</th>\n",
       "      <th>sum_loss</th>\n",
       "    </tr>\n",
       "  </thead>\n",
       "  <tbody>\n",
       "    <tr>\n",
       "      <th>0</th>\n",
       "      <td>1</td>\n",
       "      <td>52792792</td>\n",
       "    </tr>\n",
       "    <tr>\n",
       "      <th>1</th>\n",
       "      <td>2</td>\n",
       "      <td>56983959</td>\n",
       "    </tr>\n",
       "    <tr>\n",
       "      <th>2</th>\n",
       "      <td>3</td>\n",
       "      <td>33540127</td>\n",
       "    </tr>\n",
       "    <tr>\n",
       "      <th>3</th>\n",
       "      <td>6</td>\n",
       "      <td>1469914</td>\n",
       "    </tr>\n",
       "    <tr>\n",
       "      <th>4</th>\n",
       "      <td>8</td>\n",
       "      <td>47779241</td>\n",
       "    </tr>\n",
       "    <tr>\n",
       "      <th>5</th>\n",
       "      <td>9</td>\n",
       "      <td>27665508</td>\n",
       "    </tr>\n",
       "    <tr>\n",
       "      <th>6</th>\n",
       "      <td>10</td>\n",
       "      <td>43083907</td>\n",
       "    </tr>\n",
       "    <tr>\n",
       "      <th>7</th>\n",
       "      <td>11</td>\n",
       "      <td>44578730</td>\n",
       "    </tr>\n",
       "    <tr>\n",
       "      <th>8</th>\n",
       "      <td>12</td>\n",
       "      <td>66413336</td>\n",
       "    </tr>\n",
       "    <tr>\n",
       "      <th>9</th>\n",
       "      <td>14</td>\n",
       "      <td>60567943</td>\n",
       "    </tr>\n",
       "    <tr>\n",
       "      <th>10</th>\n",
       "      <td>18</td>\n",
       "      <td>1180327</td>\n",
       "    </tr>\n",
       "    <tr>\n",
       "      <th>11</th>\n",
       "      <td>21</td>\n",
       "      <td>68918150</td>\n",
       "    </tr>\n",
       "    <tr>\n",
       "      <th>12</th>\n",
       "      <td>56</td>\n",
       "      <td>1148636</td>\n",
       "    </tr>\n",
       "    <tr>\n",
       "      <th>13</th>\n",
       "      <td>57</td>\n",
       "      <td>3298616</td>\n",
       "    </tr>\n",
       "    <tr>\n",
       "      <th>14</th>\n",
       "      <td>58</td>\n",
       "      <td>1278859</td>\n",
       "    </tr>\n",
       "    <tr>\n",
       "      <th>15</th>\n",
       "      <td>62</td>\n",
       "      <td>19213891</td>\n",
       "    </tr>\n",
       "    <tr>\n",
       "      <th>16</th>\n",
       "      <td>63</td>\n",
       "      <td>11122677</td>\n",
       "    </tr>\n",
       "    <tr>\n",
       "      <th>17</th>\n",
       "      <td>68</td>\n",
       "      <td>18756365</td>\n",
       "    </tr>\n",
       "    <tr>\n",
       "      <th>18</th>\n",
       "      <td>70</td>\n",
       "      <td>12301486</td>\n",
       "    </tr>\n",
       "    <tr>\n",
       "      <th>19</th>\n",
       "      <td>84</td>\n",
       "      <td>5472203</td>\n",
       "    </tr>\n",
       "    <tr>\n",
       "      <th>20</th>\n",
       "      <td>85</td>\n",
       "      <td>9810409</td>\n",
       "    </tr>\n",
       "    <tr>\n",
       "      <th>21</th>\n",
       "      <td>92</td>\n",
       "      <td>1761614</td>\n",
       "    </tr>\n",
       "    <tr>\n",
       "      <th>22</th>\n",
       "      <td>93</td>\n",
       "      <td>6679815</td>\n",
       "    </tr>\n",
       "    <tr>\n",
       "      <th>23</th>\n",
       "      <td>95</td>\n",
       "      <td>4589976</td>\n",
       "    </tr>\n",
       "    <tr>\n",
       "      <th>24</th>\n",
       "      <td>98</td>\n",
       "      <td>9417371</td>\n",
       "    </tr>\n",
       "    <tr>\n",
       "      <th>25</th>\n",
       "      <td>99</td>\n",
       "      <td>67689</td>\n",
       "    </tr>\n",
       "    <tr>\n",
       "      <th>26</th>\n",
       "      <td>100</td>\n",
       "      <td>94013</td>\n",
       "    </tr>\n",
       "    <tr>\n",
       "      <th>27</th>\n",
       "      <td>105</td>\n",
       "      <td>12637517</td>\n",
       "    </tr>\n",
       "    <tr>\n",
       "      <th>28</th>\n",
       "      <td>108</td>\n",
       "      <td>6700582</td>\n",
       "    </tr>\n",
       "    <tr>\n",
       "      <th>29</th>\n",
       "      <td>112</td>\n",
       "      <td>135136</td>\n",
       "    </tr>\n",
       "    <tr>\n",
       "      <th>30</th>\n",
       "      <td>113</td>\n",
       "      <td>27575</td>\n",
       "    </tr>\n",
       "    <tr>\n",
       "      <th>31</th>\n",
       "      <td>118</td>\n",
       "      <td>4148257</td>\n",
       "    </tr>\n",
       "    <tr>\n",
       "      <th>32</th>\n",
       "      <td>120</td>\n",
       "      <td>42093</td>\n",
       "    </tr>\n",
       "  </tbody>\n",
       "</table>\n",
       "</div>"
      ],
      "text/plain": [
       "     id  sum_loss\n",
       "0     1  52792792\n",
       "1     2  56983959\n",
       "2     3  33540127\n",
       "3     6   1469914\n",
       "4     8  47779241\n",
       "5     9  27665508\n",
       "6    10  43083907\n",
       "7    11  44578730\n",
       "8    12  66413336\n",
       "9    14  60567943\n",
       "10   18   1180327\n",
       "11   21  68918150\n",
       "12   56   1148636\n",
       "13   57   3298616\n",
       "14   58   1278859\n",
       "15   62  19213891\n",
       "16   63  11122677\n",
       "17   68  18756365\n",
       "18   70  12301486\n",
       "19   84   5472203\n",
       "20   85   9810409\n",
       "21   92   1761614\n",
       "22   93   6679815\n",
       "23   95   4589976\n",
       "24   98   9417371\n",
       "25   99     67689\n",
       "26  100     94013\n",
       "27  105  12637517\n",
       "28  108   6700582\n",
       "29  112    135136\n",
       "30  113     27575\n",
       "31  118   4148257\n",
       "32  120     42093"
      ]
     },
     "execution_count": 470,
     "metadata": {},
     "output_type": "execute_result"
    }
   ],
   "source": [
    "canc_loss"
   ]
  },
  {
   "cell_type": "code",
   "execution_count": 500,
   "metadata": {},
   "outputs": [
    {
     "data": {
      "text/plain": [
       "<matplotlib.axes._subplots.AxesSubplot at 0x10918ffad00>"
      ]
     },
     "execution_count": 500,
     "metadata": {},
     "output_type": "execute_result"
    },
    {
     "data": {
      "image/png": "[encoded data removed]",
      "text/plain": [
       "<Figure size 432x288 with 1 Axes>"
      ]
     },
     "metadata": {
      "needs_background": "light"
     },
     "output_type": "display_data"
    }
   ],
   "source": [
    "#Потери от отмененных заказов по магазинам. Доделать\n",
    "loss = canc_loss.sum_loss.sort_values(ascending = False)[:10]\n",
    "loss = canc_loss.set_index(['id'])[0:10]\n",
    "sns.barplot(loss['sum_loss'].keys(),loss['sum_loss'])\n"
   ]
  },
  {
   "cell_type": "code",
   "execution_count": 501,
   "metadata": {},
   "outputs": [
    {
     "data": {
      "text/html": [
       "<div>\n",
       "<style scoped>\n",
       "    .dataframe tbody tr th:only-of-type {\n",
       "        vertical-align: middle;\n",
       "    }\n",
       "\n",
       "    .dataframe tbody tr th {\n",
       "        vertical-align: top;\n",
       "    }\n",
       "\n",
       "    .dataframe thead th {\n",
       "        text-align: right;\n",
       "    }\n",
       "</style>\n",
       "<table border=\"1\" class=\"dataframe\">\n",
       "  <thead>\n",
       "    <tr style=\"text-align: right;\">\n",
       "      <th></th>\n",
       "      <th>sum_loss</th>\n",
       "    </tr>\n",
       "    <tr>\n",
       "      <th>id</th>\n",
       "      <th></th>\n",
       "    </tr>\n",
       "  </thead>\n",
       "  <tbody>\n",
       "    <tr>\n",
       "      <th>1</th>\n",
       "      <td>52792792</td>\n",
       "    </tr>\n",
       "    <tr>\n",
       "      <th>2</th>\n",
       "      <td>56983959</td>\n",
       "    </tr>\n",
       "    <tr>\n",
       "      <th>3</th>\n",
       "      <td>33540127</td>\n",
       "    </tr>\n",
       "    <tr>\n",
       "      <th>6</th>\n",
       "      <td>1469914</td>\n",
       "    </tr>\n",
       "    <tr>\n",
       "      <th>8</th>\n",
       "      <td>47779241</td>\n",
       "    </tr>\n",
       "    <tr>\n",
       "      <th>9</th>\n",
       "      <td>27665508</td>\n",
       "    </tr>\n",
       "    <tr>\n",
       "      <th>10</th>\n",
       "      <td>43083907</td>\n",
       "    </tr>\n",
       "    <tr>\n",
       "      <th>11</th>\n",
       "      <td>44578730</td>\n",
       "    </tr>\n",
       "    <tr>\n",
       "      <th>12</th>\n",
       "      <td>66413336</td>\n",
       "    </tr>\n",
       "    <tr>\n",
       "      <th>14</th>\n",
       "      <td>60567943</td>\n",
       "    </tr>\n",
       "  </tbody>\n",
       "</table>\n",
       "</div>"
      ],
      "text/plain": [
       "    sum_loss\n",
       "id          \n",
       "1   52792792\n",
       "2   56983959\n",
       "3   33540127\n",
       "6    1469914\n",
       "8   47779241\n",
       "9   27665508\n",
       "10  43083907\n",
       "11  44578730\n",
       "12  66413336\n",
       "14  60567943"
      ]
     },
     "execution_count": 501,
     "metadata": {},
     "output_type": "execute_result"
    }
   ],
   "source": [
    "loss.index\n",
    "loss['sum_loss'].keys()\n",
    "canc_loss.set_index(['id'])[0:10]"
   ]
  },
  {
   "cell_type": "code",
   "execution_count": 502,
   "metadata": {},
   "outputs": [
    {
     "data": {
      "text/plain": [
       "11    68918150\n",
       "8     66413336\n",
       "9     60567943\n",
       "1     56983959\n",
       "0     52792792\n",
       "4     47779241\n",
       "7     44578730\n",
       "6     43083907\n",
       "2     33540127\n",
       "5     27665508\n",
       "Name: sum_loss, dtype: int64"
      ]
     },
     "execution_count": 502,
     "metadata": {},
     "output_type": "execute_result"
    }
   ],
   "source": []
  }
 ],
 "metadata": {
  "kernelspec": {
   "display_name": "Python 3",
   "language": "python",
   "name": "python3"
  },
  "language_info": {
   "codemirror_mode": {
    "name": "ipython",
    "version": 3
   },
   "file_extension": ".py",
   "mimetype": "text/x-python",
   "name": "python",
   "nbconvert_exporter": "python",
   "pygments_lexer": "ipython3",
   "version": "3.8.3"
  }
 },
 "nbformat": 4,
 "nbformat_minor": 4
}
