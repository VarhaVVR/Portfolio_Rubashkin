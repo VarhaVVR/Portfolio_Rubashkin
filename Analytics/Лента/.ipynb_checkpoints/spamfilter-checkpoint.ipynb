{
 "cells": [
  {
   "cell_type": "code",
   "execution_count": 1,
   "metadata": {},
   "outputs": [],
   "source": [
    "import re\n",
    "import os\n",
    "import random as r"
   ]
  },
  {
   "cell_type": "code",
   "execution_count": 2,
   "metadata": {},
   "outputs": [
    {
     "data": {
      "text/plain": [
       "['.ipynb_checkpoints',\n",
       " 'create table.txt',\n",
       " 'e-mails.txt',\n",
       " 'photo5427355344104960610.jpg',\n",
       " 'spamfilter.ipynb',\n",
       " 'spamtest.txt',\n",
       " 'sql requests.txt']"
      ]
     },
     "execution_count": 2,
     "metadata": {},
     "output_type": "execute_result"
    }
   ],
   "source": [
    "os.listdir()"
   ]
  },
  {
   "cell_type": "code",
   "execution_count": 3,
   "metadata": {},
   "outputs": [
    {
     "name": "stdout",
     "output_type": "stream",
     "text": [
      "Slava privet\n",
      "\n",
      "s1ava privet\n",
      "\n",
      "sla8a\n",
      "\n",
      "slava\n",
      "\n",
      "slava pr1ve\n"
     ]
    }
   ],
   "source": [
    "f = open('e-mails.txt', 'r', buffering = -1)\n",
    "for line in f:\n",
    "  print(line)\n",
    "f.close() # не забывайте закрыть файл"
   ]
  },
  {
   "cell_type": "code",
   "execution_count": 4,
   "metadata": {},
   "outputs": [
    {
     "name": "stdout",
     "output_type": "stream",
     "text": [
      "Spam: ['s1ava privet', 'sla8a', 'slava pr1v']\n",
      "Ne spam: ['Slava privet', 'slava']\n"
     ]
    }
   ],
   "source": [
    "f = open('e-mails.txt', 'r', buffering = -1)\n",
    "nespam=[]\n",
    "spam=[]\n",
    "for line in f:\n",
    "    valid = re.search(r'\\d?[a-z]+\\d[a-z]+\\d?', line.lower())\n",
    "    if valid is None:\n",
    "        nespam.append(line[:-1])\n",
    "    else:\n",
    "        spam.append(line[:-1])\n",
    "f.close() # не забывайте закрыть файл\n",
    "print(f'Spam: {spam}\\nNe spam: {nespam}')"
   ]
  },
  {
   "cell_type": "code",
   "execution_count": 5,
   "metadata": {},
   "outputs": [],
   "source": [
    "def wordgen(num):\n",
    "    if num < 0.1:\n",
    "        return '1aaaa'\n",
    "    elif num < 0.2:\n",
    "        return 'aa1aa'\n",
    "    elif num < 0.5:\n",
    "        return 'aaaa1'\n",
    "    elif num < 1:\n",
    "        return 'aaaaa'\n"
   ]
  },
  {
   "cell_type": "code",
   "execution_count": 6,
   "metadata": {},
   "outputs": [],
   "source": [
    "def spamfilter(text):\n",
    "    nespam=[]\n",
    "    spam=[]\n",
    "    for line in text:\n",
    "        valid = re.search(r'\\d?[a-z]*\\d[a-z]*\\d?', line.lower())\n",
    "        if valid is None:\n",
    "            nespam.append(line)\n",
    "        else:\n",
    "            spam.append(line)\n",
    "    print(f'Spam: {spam}\\nNe spam: {nespam}')"
   ]
  },
  {
   "cell_type": "code",
   "execution_count": 7,
   "metadata": {},
   "outputs": [],
   "source": [
    "wordlist = []\n",
    "for i in range(100):\n",
    "    num = r.random()\n",
    "    wordlist.append(wordgen(num))"
   ]
  },
  {
   "cell_type": "code",
   "execution_count": 8,
   "metadata": {},
   "outputs": [
    {
     "name": "stdout",
     "output_type": "stream",
     "text": [
      "Spam: ['aaaa1', 'aaaa1', 'aaaa1', 'aa1aa', 'aaaa1', '1aaaa', '1aaaa', '1aaaa', 'aaaa1', 'aaaa1', 'aaaa1', 'aa1aa', 'aaaa1', 'aaaa1', 'aa1aa', 'aaaa1', '1aaaa', 'aaaa1', 'aaaa1', '1aaaa', 'aa1aa', 'aa1aa', 'aaaa1', 'aa1aa', 'aaaa1', 'aaaa1', 'aaaa1', '1aaaa', 'aaaa1', 'aaaa1', 'aaaa1', 'aaaa1', 'aaaa1', '1aaaa', 'aaaa1', '1aaaa', '1aaaa', 'aaaa1', 'aaaa1', 'aaaa1', 'aaaa1', 'aaaa1', 'aa1aa', 'aaaa1', 'aaaa1', 'aaaa1', 'aaaa1', '1aaaa', 'aaaa1', 'aa1aa', 'aaaa1', 'aaaa1', 'aaaa1', 'aaaa1', '1aaaa']\n",
      "Ne spam: ['aaaaa', 'aaaaa', 'aaaaa', 'aaaaa', 'aaaaa', 'aaaaa', 'aaaaa', 'aaaaa', 'aaaaa', 'aaaaa', 'aaaaa', 'aaaaa', 'aaaaa', 'aaaaa', 'aaaaa', 'aaaaa', 'aaaaa', 'aaaaa', 'aaaaa', 'aaaaa', 'aaaaa', 'aaaaa', 'aaaaa', 'aaaaa', 'aaaaa', 'aaaaa', 'aaaaa', 'aaaaa', 'aaaaa', 'aaaaa', 'aaaaa', 'aaaaa', 'aaaaa', 'aaaaa', 'aaaaa', 'aaaaa', 'aaaaa', 'aaaaa', 'aaaaa', 'aaaaa', 'aaaaa', 'aaaaa', 'aaaaa', 'aaaaa', 'aaaaa']\n"
     ]
    }
   ],
   "source": [
    "spamfilter(wordlist)"
   ]
  },
  {
   "cell_type": "code",
   "execution_count": 12,
   "metadata": {},
   "outputs": [],
   "source": [
    "f = open('spamtest.txt', 'w')\n",
    "for line in wordlist:\n",
    "    f.write(line + '\\n')\n",
    "f.close()"
   ]
  },
  {
   "cell_type": "code",
   "execution_count": 19,
   "metadata": {},
   "outputs": [],
   "source": [
    "def spamfilter_w(word):\n",
    "    nespam=[]\n",
    "    spam=[]\n",
    "    f = open('spam_del.txt', 'a', buffering = -1)\n",
    "    valid = re.search(r'\\d?[a-z]*\\d[a-z]*\\d?', word.lower())\n",
    "    if valid is None:\n",
    "        f.write(word + '\\n')\n",
    "    f.close()\n"
   ]
  },
  {
   "cell_type": "code",
   "execution_count": 20,
   "metadata": {},
   "outputs": [],
   "source": [
    "f = open('spamtest.txt', 'r', buffering = -1)\n",
    "for line in f:\n",
    "    spamfilter_w(line)\n",
    "f.close() # не забывайте закрыть файл"
   ]
  },
  {
   "cell_type": "code",
   "execution_count": 23,
   "metadata": {},
   "outputs": [],
   "source": [
    "f = open('spamtest.txt', 'w')\n",
    "for i in range(1000000000):\n",
    "    num = r.random()\n",
    "    wordlist.append(wordgen(num))\n",
    "    f.write(wordgen(num) + '\\n')\n",
    "f.close()"
   ]
  },
  {
   "cell_type": "code",
   "execution_count": 24,
   "metadata": {},
   "outputs": [],
   "source": [
    "def spamtest_prep(num):\n",
    "    f = open('spamtest_small.txt', 'w')\n",
    "        for i in range(num):\n",
    "            num = r.random()\n",
    "            wordlist.append(wordgen(num))\n",
    "            f.write(wordgen(num) + '\\n')\n",
    "f.close()"
   ]
  },
  {
   "cell_type": "code",
   "execution_count": 25,
   "metadata": {},
   "outputs": [],
   "source": [
    "import tracemalloc"
   ]
  },
  {
   "cell_type": "code",
   "execution_count": null,
   "metadata": {},
   "outputs": [],
   "source": [
    "tracemalloc.start()\n",
    "f = open('spamtest.txt', 'r', buffering = 1)\n",
    "for line in f:\n",
    "    spamfilter_w(line)\n",
    "f.close() # не забывайте закрыть файл\n",
    "current, peak = tracemalloc.get_traced_memory()\n",
    "print(f\"Current memory usage is {current / 10**6}MB; Peak was {peak / 10**6}MB\")\n",
    "tracemalloc.stop()"
   ]
  },
  {
   "cell_type": "code",
   "execution_count": 28,
   "metadata": {},
   "outputs": [],
   "source": [
    "f.close()"
   ]
  }
 ],
 "metadata": {
  "kernelspec": {
   "display_name": "Python 3",
   "language": "python",
   "name": "python3"
  },
  "language_info": {
   "codemirror_mode": {
    "name": "ipython",
    "version": 3
   },
   "file_extension": ".py",
   "mimetype": "text/x-python",
   "name": "python",
   "nbconvert_exporter": "python",
   "pygments_lexer": "ipython3",
   "version": "3.8.3"
  }
 },
 "nbformat": 4,
 "nbformat_minor": 4
}
