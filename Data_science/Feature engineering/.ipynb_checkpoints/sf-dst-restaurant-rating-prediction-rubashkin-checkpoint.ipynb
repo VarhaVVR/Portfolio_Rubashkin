{
 "cells": [
  {
   "cell_type": "markdown",
   "metadata": {
    "_cell_guid": "b1076dfc-b9ad-4769-8c92-a6c4dae69d19",
    "_uuid": "8f2839f25d086af736a60e9eeb907d3b93b6e0e5"
   },
   "source": [
    "## Задача по предсказанию рейтинга ресторана на основе базы данных с сайта TripAdvisor.\n",
    "## Основная задача в feature engineering, для улучшения точности регрессионной модели."
   ]
  },
  {
   "cell_type": "code",
   "execution_count": null,
   "metadata": {},
   "outputs": [],
   "source": [
    "# This Python 3 environment comes with many helpful analytics libraries installed\n",
    "# It is defined by the kaggle/python Docker image: https://github.com/kaggle/docker-python\n",
    "# For example, here's several helpful packages to load\n",
    "\n",
    "import numpy as np # linear algebra\n",
    "import pandas as pd # data processing, CSV file I/O (e.g. pd.read_csv)\n",
    "\n",
    "# Input data files are available in the read-only \"../input/\" directory\n",
    "# For example, running this (by clicking run or pressing Shift+Enter) will list all files under the input directory\n",
    "\n",
    "import os\n",
    "for dirname, _, filenames in os.walk('/kaggle/input'):\n",
    "    for filename in filenames:\n",
    "        print(os.path.join(dirname, filename))\n",
    "\n",
    "# You can write up to 5GB to the current directory (/kaggle/working/) that gets preserved as output when you create a version using \"Save & Run All\" \n",
    "# You can also write temporary files to /kaggle/temp/, but they won't be saved outside of the current session"
   ]
  },
  {
   "cell_type": "code",
   "execution_count": 4,
   "metadata": {
    "_cell_guid": "79c7e3d0-c299-4dcb-8224-4455121ee9b0",
    "_uuid": "d629ff2d2480ee46fbb7e2d37f6b5fab8052498a"
   },
   "outputs": [],
   "source": [
    "import re\n",
    "import matplotlib.pyplot as plt\n",
    "from datetime import datetime, timedelta\n",
    "import seaborn as sns \n",
    "from sklearn.preprocessing import LabelEncoder\n",
    "from sklearn.model_selection import train_test_split"
   ]
  },
  {
   "cell_type": "code",
   "execution_count": 5,
   "metadata": {},
   "outputs": [],
   "source": [
    "# всегда фиксируйте RANDOM_SEED, чтобы ваши эксперименты были воспроизводимы!\n",
    "RANDOM_SEED = 42\n",
    "# зафиксируем версию пакетов, чтобы эксперименты были воспроизводимы:\n",
    "!pip freeze > requirements.txt"
   ]
  },
  {
   "cell_type": "code",
   "execution_count": 6,
   "metadata": {},
   "outputs": [],
   "source": [
    "DATA_DIR = '/kaggle/input/sf-dst-restaurant-rating/'\n",
    "df_train = pd.read_csv(DATA_DIR+'/main_task.csv')\n",
    "df_test = pd.read_csv(DATA_DIR+'kaggle_task.csv')\n",
    "sample_submission = pd.read_csv(DATA_DIR+'/sample_submission.csv')"
   ]
  },
  {
   "cell_type": "code",
   "execution_count": 8,
   "metadata": {},
   "outputs": [
    {
     "name": "stdout",
     "output_type": "stream",
     "text": [
      "<class 'pandas.core.frame.DataFrame'>\n",
      "RangeIndex: 50000 entries, 0 to 49999\n",
      "Data columns (total 11 columns):\n",
      " #   Column             Non-Null Count  Dtype  \n",
      "---  ------             --------------  -----  \n",
      " 0   Restaurant_id      50000 non-null  object \n",
      " 1   City               50000 non-null  object \n",
      " 2   Cuisine Style      38410 non-null  object \n",
      " 3   Ranking            50000 non-null  float64\n",
      " 4   Price Range        32639 non-null  object \n",
      " 5   Number of Reviews  46800 non-null  float64\n",
      " 6   Reviews            49998 non-null  object \n",
      " 7   URL_TA             50000 non-null  object \n",
      " 8   ID_TA              50000 non-null  object \n",
      " 9   sample             50000 non-null  int64  \n",
      " 10  Rating             50000 non-null  float64\n",
      "dtypes: float64(3), int64(1), object(7)\n",
      "memory usage: 4.2+ MB\n"
     ]
    }
   ],
   "source": [
    "# ВАЖНО! дря корректной обработки признаков объединяем трейн и тест в один датасет\n",
    "df_train['sample'] = 1 # помечаем где у нас трейн\n",
    "df_test['sample'] = 0 # помечаем где у нас тест\n",
    "df_test['Rating'] = 0 # в тесте у нас нет значения Rating, мы его должны предсказать, по этому пока просто заполняем нулями\n",
    "\n",
    "df = df_test.append(df_train, sort=False).reset_index(drop=True) # объединяем"
   ]
  },
  {
   "cell_type": "code",
   "execution_count": 10,
   "metadata": {},
   "outputs": [
    {
     "name": "stdout",
     "output_type": "stream",
     "text": [
      "Restaurant_id            0\n",
      "City                     0\n",
      "Cuisine Style        11590\n",
      "Ranking                  0\n",
      "Price Range          17361\n",
      "Number of Reviews     3200\n",
      "Reviews                  2\n",
      "URL_TA                   0\n",
      "ID_TA                    0\n",
      "sample                   0\n",
      "Rating                   0\n",
      "Cities                   0\n",
      "dtype: int64\n"
     ]
    },
    {
     "data": {
      "text/plain": [
       "Restaurant_id         object\n",
       "City                  object\n",
       "Cuisine Style         object\n",
       "Ranking              float64\n",
       "Price Range           object\n",
       "Number of Reviews    float64\n",
       "Reviews               object\n",
       "URL_TA                object\n",
       "ID_TA                 object\n",
       "sample                 int64\n",
       "Rating               float64\n",
       "Cities                object\n",
       "dtype: object"
      ]
     },
     "execution_count": 10,
     "metadata": {},
     "output_type": "execute_result"
    }
   ],
   "source": [
    "#Проверяем, где есть NaN значения.\n",
    "print(df.isnull().sum())\n",
    "#Проверяем, где есть числовые данные или списки.\n",
    "df.dtypes"
   ]
  },
  {
   "cell_type": "code",
   "execution_count": 11,
   "metadata": {},
   "outputs": [],
   "source": [
    "#Сохраним все столбцы с параметрами NaN в свои отдельные столбцы\n",
    "df['Cuisine Style is NaN'] = pd.isna(df['Cuisine Style']).astype('uint8')\n",
    "df['Number of Reviews is NaN']= pd.isna(df['Number of Reviews']).astype('uint8')\n",
    "df['Price Range is NaN'] = pd.isna(df['Price Range']).astype('uint8')\n",
    "df['Reviews are NaN'] = pd.isna(df['Reviews']).astype('uint8')\n",
    "\n",
    "#Заполним NaN соответствующими значениями\n",
    "df['Cuisine Style'].fillna(value=\"'European'\", inplace = True)\n",
    "df['Price Range'].fillna(value='no info', inplace = True)\n",
    "df['Number of Reviews'].fillna(value=0, inplace = True)\n",
    "df['Reviews'].fillna(value='no review', inplace = True)\n",
    "df.isna().count()\n",
    "\n",
    "#Закодируем значения по кухням.\n",
    "le = LabelEncoder()\n",
    "le.fit(df['Cuisine Style'])\n",
    "df['Cuisine Style_code'] = le.transform(df['Cuisine Style'])"
   ]
  },
  {
   "cell_type": "code",
   "execution_count": 12,
   "metadata": {},
   "outputs": [
    {
     "name": "stdout",
     "output_type": "stream",
     "text": [
      "2.62532\n",
      "European               24151\n",
      "Vegetarian Friendly    14021\n",
      "Mediterranean           7820\n",
      "Italian                 7433\n",
      "Vegan Options           5684\n",
      "                       ...  \n",
      "Polynesian                 2\n",
      "Burmese                    1\n",
      "Latvian                    1\n",
      "Xinjiang                   1\n",
      "Salvadoran                 1\n",
      "Name: Cuisine Style, Length: 125, dtype: int64\n"
     ]
    }
   ],
   "source": [
    "#Смотрим, сколько разных ценовых категорий\n",
    "df['Price Range'].value_counts(dropna = False)\n",
    "#Сколько ресторанов в средней ценовой категории\n",
    "df[df['Price Range']=='$$ - $$$'].count()\n",
    "#Смотрим, сколько разных городов\n",
    "len(df.City.unique())\n",
    "\n",
    "#Удаляем лишние символы из списка кухонь\n",
    "df['Cuisine Style'] = df['Cuisine Style'].str.replace('[','')\n",
    "df['Cuisine Style'] = df['Cuisine Style'].str.replace(']','')\n",
    "df['Cuisine Style'] = df['Cuisine Style'].str.replace(', ',',')\n",
    "df['Cuisine Style'] = df['Cuisine Style'].str.replace(\"'\",\"\")\n",
    "#Смотрим, скоьлко в среднем кухонь\n",
    "print(len(df['Cuisine Style'].str.split(',').explode())/len(df))\n",
    "\n",
    "#Смотрим, сколько разных кухонь\n",
    "print(df['Cuisine Style'].str.split(',').explode().value_counts())\n",
    "\n",
    "#Выделим даты из ревью\n",
    "df['Review Dates'] = df['Reviews'].apply(lambda x: re.sub(r'[^0-9/]+', r'',x).split(', '))\n",
    "\n",
    "#Стобец с количеством разных кухонь для ресторана\n",
    "df['Options Number']=df['Cuisine Style'].str.split(',').apply(lambda x: len(x))\n",
    "\n",
    "#Среднее количество кухонь по городам\n",
    "df['Mean Cuisines'] = df['City'].map(df.groupby('City')['Options Number'].mean())\n",
    "\n",
    "#Вводим столбцы с соответствующими кухнями\n",
    "for cuisine in list(df['Cuisine Style'].str.split(',').explode().value_counts().keys()):\n",
    "    df[cuisine] = df['Cuisine Style'].apply(lambda x: 1 if cuisine in x else 0 ) "
   ]
  },
  {
   "cell_type": "code",
   "execution_count": 13,
   "metadata": {},
   "outputs": [
    {
     "data": {
      "text/plain": [
       "3296"
      ]
     },
     "execution_count": 13,
     "metadata": {},
     "output_type": "execute_result"
    }
   ],
   "source": [
    "#Сколько дней между отзывами\n",
    "pattern = re.compile('\\d\\d/\\d\\d/\\d\\d\\d\\d')\n",
    "def diff_rev_data(cell):\n",
    "    data_set = pattern.findall(cell)\n",
    "    if len(data_set) ==2:\n",
    "        data1 = datetime.strptime(data_set[0],'%m/%d/%Y')\n",
    "        data2 = datetime.strptime(data_set[1],'%m/%d/%Y')\n",
    "        return(data1-data2).days\n",
    "    if len (data_set)==1:\n",
    "        return int((datetime.strptime(data_set[0], '%m/%d/%Y')).strftime('%d'))\n",
    "    else:\n",
    "        return 0\n",
    "df['diff_rev_data']=df['Reviews'].apply(diff_rev_data)\n",
    "df['diff_rev_data'].max()"
   ]
  },
  {
   "cell_type": "code",
   "execution_count": 14,
   "metadata": {},
   "outputs": [],
   "source": [
    "#Определение относительного ранга ресторана, в зависимости от города\n",
    "rest_count = df.City.value_counts()\n",
    "def get_rest_count(value):\n",
    "    return rest_count[value]\n",
    "#чем больше к единице, тем выше ранг ресторана\n",
    "df['relative_ranking'] = 1-(df['Ranking'] / df['City'].map(df.groupby(['City'])['Ranking'].max()))"
   ]
  },
  {
   "cell_type": "code",
   "execution_count": 15,
   "metadata": {},
   "outputs": [
    {
     "data": {
      "text/plain": [
       "1    40402\n",
       "0     7816\n",
       "2     1782\n",
       "Name: Price Range, dtype: int64"
      ]
     },
     "execution_count": 15,
     "metadata": {},
     "output_type": "execute_result"
    }
   ],
   "source": [
    "#Средняя цена по городу\n",
    "df['Price Range'].value_counts()\n",
    "replace_price_range = {'$$ - $$$':1,'$':0,'$$$$':2,'no info':1}\n",
    "df['Price Range'] = df['Price Range'].map(lambda x: replace_price_range.get(x,x))\n",
    "df['Mean Price'] = df['City'].map(df.groupby('City')['Price Range'].mean())\n",
    "df['Price Range'].value_counts(dropna=False)"
   ]
  },
  {
   "cell_type": "code",
   "execution_count": 17,
   "metadata": {},
   "outputs": [],
   "source": [
    "#Находится ли ресторан в столице\n",
    "capitals = ['London','Paris','Madrid','Berlin','Rome','Prague','Lisbon','Vienna','Amsterdam',\n",
    "            'Brussels','Stockholm','Budapest','Warsaw','Copenhagen','Athens','Dublin','Oslo','Helsinki',\n",
    "            'Bratislava','Luxembourg','Ljubljana','Edinburgh']\n",
    "def check_if_capital(value):\n",
    "    return 1 if value in capitals else 0\n",
    "df['In capital'] = df['City'].apply(check_if_capital)\n",
    "\n",
    "#В каком городе находится ресторан\n",
    "df['Cities'] = df['City']\n",
    "df = pd.get_dummies(df, columns=['Cities'], drop_first = False,dummy_na = True)"
   ]
  },
  {
   "cell_type": "code",
   "execution_count": 18,
   "metadata": {},
   "outputs": [],
   "source": [
    "#Признак уникальности ресторана из его номера на TripAdvisor\n",
    "df['code_after_g_URL_TA'] = df['URL_TA'].str.split('-').apply(lambda x: x[1][1:]).astype('float64')\n",
    "#данные взяты из Википедии\n",
    "population_density = {'Paris': 20781, 'Stockholm': 5139.7, 'London': 5667, 'Berlin': 4088, 'Munich': 4713, 'Oporto': 5703,\n",
    "       'Milan':7588.97, 'Bratislava':1171, 'Vienna':4502.88, 'Rome':2234, 'Barcelona':15779, 'Madrid':8653.5,\n",
    "       'Dublin':3689, 'Brussels':5497, 'Zurich':4666, 'Warsaw':3449, 'Budapest':3330.5, 'Copenhagen':6214.7,\n",
    "       'Amsterdam':4768, 'Lyon':10041, 'Hamburg':2388.57, 'Lisbon':6243.9, 'Prague':2506, 'Oslo':1483.41,\n",
    "       'Helsinki':899, 'Edinburgh':4140, 'Geneva':12589, 'Ljubljana':1736, 'Athens':7500,\n",
    "       'Luxembourg':2240, 'Krakow':2344}\n",
    "\n",
    "df['population_density'] = df['City'].map(population_density)\n",
    "#данные взяты из Википедии\n",
    "average_income = {'Paris': 3332, 'Stockholm': 2893, 'London': 2703, 'Berlin': 4392, 'Munich': 4392, 'Oporto': 1288,\n",
    "       'Milan':2726, 'Bratislava':1283, 'Vienna':2940, 'Rome':2726, 'Barcelona':2133, 'Madrid':2133,\n",
    "       'Dublin':3671, 'Brussels':3930, 'Zurich':6244, 'Warsaw':1253, 'Budapest':1187, 'Copenhagen':6192,\n",
    "       'Amsterdam':3238, 'Lyon':3332, 'Hamburg':4392, 'Lisbon':1288, 'Prague':1454, 'Oslo':5450,\n",
    "       'Helsinki':3908, 'Edinburgh':2703, 'Geneva':6244, 'Ljubljana':1914, 'Athens':1203,\n",
    "       'Luxembourg':5854, 'Krakow':1253}\n",
    "df['average_income'] = df['City'].map(average_income)"
   ]
  },
  {
   "cell_type": "code",
   "execution_count": 19,
   "metadata": {},
   "outputs": [],
   "source": [
    "#В какой стране находится ресторан\n",
    "city_country = {\n",
    "        'London': 'UK',\n",
    "        'Paris': 'France',\n",
    "        'Madrid': 'Spain',\n",
    "        'Barcelona': 'Spain',\n",
    "        'Berlin': 'Germany',\n",
    "        'Milan': 'Italy',\n",
    "        'Rome': 'Italy',\n",
    "        'Prague': 'Czech',\n",
    "        'Lisbon': 'Portugalia',\n",
    "        'Vienna': 'Austria',\n",
    "        'Amsterdam': 'Nederlands',\n",
    "        'Brussels': 'Belgium ',\n",
    "        'Hamburg': 'Germany',\n",
    "        'Munich': 'Germany',\n",
    "        'Lyon': 'France',\n",
    "        'Stockholm': 'Sweden',\n",
    "        'Budapest': 'Hungary',\n",
    "        'Warsaw': 'Poland',\n",
    "        'Dublin': 'Ireland',\n",
    "        'Copenhagen': 'Denmark',\n",
    "        'Athens': 'Greece',\n",
    "        'Edinburgh': 'Schotland',\n",
    "        'Zurich': 'Switzerland',\n",
    "        'Oporto': 'Portugalia',\n",
    "        'Geneva': 'Switzerland',\n",
    "        'Krakow': 'Poland',\n",
    "        'Oslo': 'Norway',\n",
    "        'Helsinki': 'Finland',\n",
    "        'Bratislava': 'Slovakia',\n",
    "        'Luxembourg': 'Luxembourg',\n",
    "        'Ljubljana': 'Slovenija'\n",
    "    }\n",
    "\n",
    "df['County Code'] = df['City'].map(city_country)\n",
    "\n",
    "le = LabelEncoder()\n",
    "\n",
    "le = LabelEncoder()\n",
    "le.fit(df['County Code'])\n",
    "df['County Code'] = le.transform(df['County Code'])"
   ]
  },
  {
   "cell_type": "code",
   "execution_count": 20,
   "metadata": {},
   "outputs": [],
   "source": [
    "#Количество ресторанов в городе\n",
    "df['Rests per City'] = df['City'].map(\n",
    "    df.groupby(['City'])['Restaurant_id'].count().to_dict())\n",
    "df.drop(['Restaurant_id'], axis=1, inplace=True)\n",
    "\n",
    "#Количество ресторанов по отношению к плотности населения\n",
    "df['Rests per Density'] = df['Rests per City'] / df['population_density']"
   ]
  },
  {
   "cell_type": "code",
   "execution_count": 21,
   "metadata": {},
   "outputs": [
    {
     "name": "stderr",
     "output_type": "stream",
     "text": [
      "/opt/conda/lib/python3.7/site-packages/pandas/core/series.py:4523: SettingWithCopyWarning: \n",
      "A value is trying to be set on a copy of a slice from a DataFrame\n",
      "\n",
      "See the caveats in the documentation: https://pandas.pydata.org/pandas-docs/stable/user_guide/indexing.html#returning-a-view-versus-a-copy\n",
      "  downcast=downcast,\n"
     ]
    }
   ],
   "source": [
    "#Количество ревью по городам\n",
    "df['Number of Reviews'].fillna(df['Number of Reviews'].mean(), inplace=True)\n",
    "df['fb per City'] = df['Number of Reviews'].map(\n",
    "    df.groupby(['Number of Reviews'\n",
    "                ])['Number of Reviews'].count().to_dict())"
   ]
  },
  {
   "cell_type": "code",
   "execution_count": 22,
   "metadata": {},
   "outputs": [
    {
     "data": {
      "text/plain": [
       "((10000, 217), (40000, 217), (40000, 210), (32000, 210), (8000, 210))"
      ]
     },
     "execution_count": 22,
     "metadata": {},
     "output_type": "execute_result"
    }
   ],
   "source": [
    "train_data = df.query('sample == 1').drop(['sample'], axis=1)\n",
    "test_data = df.query('sample == 0').drop(['sample'], axis=1)\n",
    "y = train_data.Rating.values            # наш таргет\n",
    "X = train_data.select_dtypes(include = ['float64', 'int64', 'uint8'])\n",
    "X = X.drop(['Rating'], axis=1)\n",
    "\n",
    "X_train, X_test, y_train, y_test = train_test_split(X, y, test_size=0.2, random_state=RANDOM_SEED)\n",
    "# проверяем\n",
    "test_data.shape, train_data.shape, X.shape, X_train.shape, X_test.shape\n"
   ]
  },
  {
   "cell_type": "code",
   "execution_count": 23,
   "metadata": {},
   "outputs": [
    {
     "name": "stdout",
     "output_type": "stream",
     "text": [
      "MAE: 0.2039325\n"
     ]
    }
   ],
   "source": [
    "# Х - данные с информацией о ресторанах, у - целевая переменная (рейтинги ресторанов)\n",
    "\n",
    "# Загружаем специальный инструмент для разбивки:\n",
    "from sklearn.model_selection import train_test_split\n",
    "\n",
    "# Наборы данных с меткой \"train\" будут использоваться для обучения модели, \"test\" - для тестирования.\n",
    "# Для тестирования мы будем использовать 25% от исходного датасета.\n",
    "X_train, X_test, y_train, y_test = train_test_split(X, y, test_size=0.25)\n",
    "\n",
    "# Импортируем необходимые библиотеки:\n",
    "from sklearn.ensemble import RandomForestRegressor # инструмент для создания и обучения модели\n",
    "from sklearn import metrics # инструменты для оценки точности модели\n",
    "\n",
    "# Создаём модель\n",
    "regr = RandomForestRegressor(n_estimators=100)\n",
    "\n",
    "# Обучаем модель на тестовом наборе данных\n",
    "regr.fit(X_train, y_train)\n",
    "\n",
    "# Используем обученную модель для предсказания рейтинга ресторанов в тестовой выборке.\n",
    "# Предсказанные значения записываем в переменную y_pred\n",
    "y_pred = regr.predict(X_test)\n",
    "\n",
    "# Сравниваем предсказанные значения (y_pred) с реальными (y_test), и смотрим насколько они в среднем отличаются\n",
    "# Метрика называется Mean Absolute Error (MAE) и показывает среднее отклонение предсказанных значений от фактических.\n",
    "print('MAE:', metrics.mean_absolute_error(y_test, y_pred))"
   ]
  },
  {
   "cell_type": "code",
   "execution_count": 24,
   "metadata": {},
   "outputs": [
    {
     "data": {
      "text/plain": [
       "<matplotlib.axes._subplots.AxesSubplot at 0x7fc25eb26910>"
      ]
     },
     "execution_count": 24,
     "metadata": {},
     "output_type": "execute_result"
    },
    {
     "data": {
      "image/png": "[encoded data removed]",
      "text/plain": [
       "<Figure size 864x720 with 1 Axes>"
      ]
     },
     "metadata": {
      "needs_background": "light"
     },
     "output_type": "display_data"
    }
   ],
   "source": [
    "plt.rcParams['figure.figsize'] = (12,10)\n",
    "feat_importances = pd.Series(regr.feature_importances_, index=X.columns)\n",
    "feat_importances.nlargest(15).plot(kind='barh')"
   ]
  },
  {
   "cell_type": "markdown",
   "metadata": {},
   "source": []
  },
  {
   "cell_type": "code",
   "execution_count": 25,
   "metadata": {},
   "outputs": [
    {
     "name": "stdout",
     "output_type": "stream",
     "text": [
      "MAE: 0.17385\n"
     ]
    }
   ],
   "source": [
    "# Округлим результаты работы модели:\n",
    "def round_to_half(row):\n",
    "    return (round(row*2)/2)\n",
    "\n",
    "new_round = np.vectorize(round_to_half)\n",
    "y_pred_round = new_round(regr.predict(X_test))\n",
    "print('MAE:', metrics.mean_absolute_error(y_test, y_pred_round))"
   ]
  },
  {
   "cell_type": "code",
   "execution_count": 34,
   "metadata": {},
   "outputs": [
    {
     "data": {
      "text/html": [
       "<div>\n",
       "<style scoped>\n",
       "    .dataframe tbody tr th:only-of-type {\n",
       "        vertical-align: middle;\n",
       "    }\n",
       "\n",
       "    .dataframe tbody tr th {\n",
       "        vertical-align: top;\n",
       "    }\n",
       "\n",
       "    .dataframe thead th {\n",
       "        text-align: right;\n",
       "    }\n",
       "</style>\n",
       "<table border=\"1\" class=\"dataframe\">\n",
       "  <thead>\n",
       "    <tr style=\"text-align: right;\">\n",
       "      <th></th>\n",
       "      <th>Restaurant_id</th>\n",
       "      <th>Rating</th>\n",
       "    </tr>\n",
       "  </thead>\n",
       "  <tbody>\n",
       "    <tr>\n",
       "      <th>0</th>\n",
       "      <td>id_0</td>\n",
       "      <td>3.135</td>\n",
       "    </tr>\n",
       "    <tr>\n",
       "      <th>1</th>\n",
       "      <td>id_1</td>\n",
       "      <td>4.145</td>\n",
       "    </tr>\n",
       "    <tr>\n",
       "      <th>2</th>\n",
       "      <td>id_2</td>\n",
       "      <td>4.520</td>\n",
       "    </tr>\n",
       "    <tr>\n",
       "      <th>3</th>\n",
       "      <td>id_3</td>\n",
       "      <td>4.385</td>\n",
       "    </tr>\n",
       "    <tr>\n",
       "      <th>4</th>\n",
       "      <td>id_4</td>\n",
       "      <td>4.475</td>\n",
       "    </tr>\n",
       "    <tr>\n",
       "      <th>5</th>\n",
       "      <td>id_5</td>\n",
       "      <td>4.395</td>\n",
       "    </tr>\n",
       "    <tr>\n",
       "      <th>6</th>\n",
       "      <td>id_6</td>\n",
       "      <td>1.140</td>\n",
       "    </tr>\n",
       "    <tr>\n",
       "      <th>7</th>\n",
       "      <td>id_7</td>\n",
       "      <td>2.905</td>\n",
       "    </tr>\n",
       "    <tr>\n",
       "      <th>8</th>\n",
       "      <td>id_8</td>\n",
       "      <td>4.180</td>\n",
       "    </tr>\n",
       "    <tr>\n",
       "      <th>9</th>\n",
       "      <td>id_9</td>\n",
       "      <td>4.485</td>\n",
       "    </tr>\n",
       "  </tbody>\n",
       "</table>\n",
       "</div>"
      ],
      "text/plain": [
       "  Restaurant_id  Rating\n",
       "0          id_0   3.135\n",
       "1          id_1   4.145\n",
       "2          id_2   4.520\n",
       "3          id_3   4.385\n",
       "4          id_4   4.475\n",
       "5          id_5   4.395\n",
       "6          id_6   1.140\n",
       "7          id_7   2.905\n",
       "8          id_8   4.180\n",
       "9          id_9   4.485"
      ]
     },
     "execution_count": 34,
     "metadata": {},
     "output_type": "execute_result"
    }
   ],
   "source": [
    "test_data = test_data.select_dtypes(include = ['float64', 'int64', 'uint8'])\n",
    "predict_submission = regr.predict(test_data)\n",
    "sample_submission['Rating'] = predict_submission\n",
    "sample_submission.to_csv('submission.csv', index=False)\n",
    "sample_submission.head(10)"
   ]
  }
 ],
 "metadata": {
  "kernelspec": {
   "display_name": "Python 3",
   "language": "python",
   "name": "python3"
  },
  "language_info": {
   "codemirror_mode": {
    "name": "ipython",
    "version": 3
   },
   "file_extension": ".py",
   "mimetype": "text/x-python",
   "name": "python",
   "nbconvert_exporter": "python",
   "pygments_lexer": "ipython3",
   "version": "3.8.3"
  }
 },
 "nbformat": 4,
 "nbformat_minor": 4
}
